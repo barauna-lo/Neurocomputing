{
  "cells": [
    {
      "cell_type": "markdown",
      "metadata": {
        "id": "view-in-github",
        "colab_type": "text"
      },
      "source": [
        "<a href=\"https://colab.research.google.com/github/barauna-lo/Neurocomputing/blob/main/Project_05_RNN.ipynb\" target=\"_parent\"><img src=\"https://colab.research.google.com/assets/colab-badge.svg\" alt=\"Open In Colab\"/></a>"
      ]
    },
    {
      "cell_type": "markdown",
      "id": "946ae14f",
      "metadata": {
        "id": "946ae14f"
      },
      "source": [
        "[<img src=https://raw.githubusercontent.com/barauna-lo/CAP4213-Deep-Learning/main/logoinpe.png align=”middle”>](https://www.gov.br/inpe/pt-br)\n",
        "\n",
        "[<center><img src=\"https://github.com/barauna-lo/Deep-Learning/blob/main/LogoCAP.png?raw=true\" width = 450 align=\"middle\"></center>](http://www.inpe.br/posgraduacao/cap/)\n",
        "\n",
        "\n",
        "# Project 05 - Recurrent Neuron Network RNN\n",
        "\n",
        "* [Luan Orion Baraúna](https://www.linkedin.com/in/luan-orion-barauna/)\n",
        "\n",
        "\n",
        "## PROJETO 5 – Redes Neurais Recoorentes (VAE)\n",
        "\n",
        "Implementar um modelo LSTM ou GRU para uma das tarefas abaixo:\n",
        "\n",
        "1. Classificação de série temporais. O modelo deve receber uma\n",
        "janela temporal (qualquer tipo de dado) e classificar o conteúdo\n",
        "da janela.\n",
        "\n",
        "2. Previsão. Treinar um modelo para predizer o valor de uma\n",
        "variável no instante t+k. O modelo deve receber os dados da\n",
        "série temporal (instantes anteriores a t – verificar tamanho da\n",
        "janela) e predizer um favor futuro. k a distância da predição. Por\n",
        "exemplo, podemos alimentar um modelo com dados de uma\n",
        "dada empresa (i.e. PETR3) e tentar predizer qual será o valor da\n",
        "ação daqui 5 dias (k==5)\n",
        "\n",
        "3. Autoencoder recorrente. O modelo deve mapear a série\n",
        "temporal na própria série. O objetivo será avaliar como os dados\n",
        "estão representados no espaço latente"
      ]
    },
    {
      "cell_type": "markdown",
      "source": [
        "# Project Report"
      ],
      "metadata": {
        "id": "z-d5la-H_12n"
      },
      "id": "z-d5la-H_12n"
    },
    {
      "cell_type": "markdown",
      "source": [
        "## Introduction \n",
        "\n",
        "https://towardsdatascience.com/time-series-classification-for-human-activity-recognition-with-lstms-using-tensorflow-2-and-keras-b816431afdff\n",
        "\n",
        "https://heartbeat.comet.ml/anomaly-detection-using-lstm-autoencoder-b03289895fef"
      ],
      "metadata": {
        "id": "oQyZMxDsEYm2"
      },
      "id": "oQyZMxDsEYm2"
    },
    {
      "cell_type": "markdown",
      "source": [
        "## Metodology "
      ],
      "metadata": {
        "id": "GqXibb2ERpSb"
      },
      "id": "GqXibb2ERpSb"
    },
    {
      "cell_type": "markdown",
      "source": [
        "## Parametes Explorations"
      ],
      "metadata": {
        "id": "Z9STxVxREi0K"
      },
      "id": "Z9STxVxREi0K"
    },
    {
      "cell_type": "markdown",
      "source": [
        "## Datasets"
      ],
      "metadata": {
        "id": "vDinrwuMRtxq"
      },
      "id": "vDinrwuMRtxq"
    },
    {
      "cell_type": "markdown",
      "source": [
        "## Plots and Results"
      ],
      "metadata": {
        "id": "6p3DrPaVRzPe"
      },
      "id": "6p3DrPaVRzPe"
    },
    {
      "cell_type": "markdown",
      "source": [
        "## Extras"
      ],
      "metadata": {
        "id": "tdEjPcvPKMpT"
      },
      "id": "tdEjPcvPKMpT"
    },
    {
      "cell_type": "markdown",
      "source": [
        "# Project Code"
      ],
      "metadata": {
        "id": "uvu01vVw_-f3"
      },
      "id": "uvu01vVw_-f3"
    },
    {
      "cell_type": "code",
      "source": [
        "from tensorflow import keras\n",
        "import numpy as np\n",
        "import pandas as pd\n",
        "import matplotlib.pyplot as plt\n",
        "from sklearn.preprocessing import RobustScaler,OneHotEncoder\n",
        "from scipy import stats\n",
        "import seaborn as sns"
      ],
      "metadata": {
        "id": "vLLB6QGqAAs4"
      },
      "id": "vLLB6QGqAAs4",
      "execution_count": 30,
      "outputs": []
    },
    {
      "cell_type": "code",
      "source": [
        "!gdown --id 152sWECukjvLerrVG2NUO8gtMFg83RKCF --output WISDM_ar_latest.tar.gz \n",
        "!tar -xvf WISDM_ar_latest.tar.gz"
      ],
      "metadata": {
        "id": "hRekXOl0EdVi"
      },
      "id": "hRekXOl0EdVi",
      "execution_count": null,
      "outputs": []
    },
    {
      "cell_type": "code",
      "source": [
        "column_names = [\n",
        "  'user_id',\n",
        "  'activity',\n",
        "  'timestamp',\n",
        "  'x_axis',\n",
        "  'y_axis',\n",
        "  'z_axis'\n",
        "]\n",
        "\n",
        "df = pd.read_csv(\n",
        "  'WISDM_ar_v1.1/WISDM_ar_v1.1_raw.txt',\n",
        "  header=None,\n",
        "  names=column_names\n",
        ")\n",
        "\n",
        "df.z_axis.replace(regex=True, inplace=True, to_replace=r';', value=r'')\n",
        "df['z_axis'] = df.z_axis.astype(np.float64)\n",
        "df.dropna(axis=0, how='any', inplace=True)\n",
        "df.shape"
      ],
      "metadata": {
        "id": "Qaf1WP4MAENG",
        "outputId": "c047ac91-3730-462d-fd4c-b8371a88f9fd",
        "colab": {
          "base_uri": "https://localhost:8080/"
        }
      },
      "id": "Qaf1WP4MAENG",
      "execution_count": 8,
      "outputs": [
        {
          "output_type": "execute_result",
          "data": {
            "text/plain": [
              "(1098203, 6)"
            ]
          },
          "metadata": {},
          "execution_count": 8
        }
      ]
    },
    {
      "cell_type": "code",
      "source": [
        "df"
      ],
      "metadata": {
        "id": "Qkz6qcA5VfEy",
        "outputId": "9b6dc792-2883-4db4-aac0-22d301c9d3be",
        "colab": {
          "base_uri": "https://localhost:8080/",
          "height": 424
        }
      },
      "id": "Qkz6qcA5VfEy",
      "execution_count": 48,
      "outputs": [
        {
          "output_type": "execute_result",
          "data": {
            "text/plain": [
              "         user_id activity        timestamp    x_axis     y_axis    z_axis\n",
              "0             33  Jogging   49105962326000 -0.694638  12.680544  0.503953\n",
              "1             33  Jogging   49106062271000  5.012288  11.264028  0.953424\n",
              "2             33  Jogging   49106112167000  4.903325  10.882658 -0.081722\n",
              "3             33  Jogging   49106222305000 -0.612916  18.496431  3.023717\n",
              "4             33  Jogging   49106332290000 -1.184970  12.108489  7.205164\n",
              "...          ...      ...              ...       ...        ...       ...\n",
              "1098199       19  Sitting  131623331483000  9.000000  -1.570000  1.690000\n",
              "1098200       19  Sitting  131623371431000  9.040000  -1.460000  1.730000\n",
              "1098201       19  Sitting  131623411592000  9.080000  -1.380000  1.690000\n",
              "1098202       19  Sitting  131623491487000  9.000000  -1.460000  1.730000\n",
              "1098203       19  Sitting  131623531465000  8.880000  -1.330000  1.610000\n",
              "\n",
              "[1098203 rows x 6 columns]"
            ],
            "text/html": [
              "\n",
              "  <div id=\"df-dabeb154-a06d-499b-9db8-2de3c0494084\">\n",
              "    <div class=\"colab-df-container\">\n",
              "      <div>\n",
              "<style scoped>\n",
              "    .dataframe tbody tr th:only-of-type {\n",
              "        vertical-align: middle;\n",
              "    }\n",
              "\n",
              "    .dataframe tbody tr th {\n",
              "        vertical-align: top;\n",
              "    }\n",
              "\n",
              "    .dataframe thead th {\n",
              "        text-align: right;\n",
              "    }\n",
              "</style>\n",
              "<table border=\"1\" class=\"dataframe\">\n",
              "  <thead>\n",
              "    <tr style=\"text-align: right;\">\n",
              "      <th></th>\n",
              "      <th>user_id</th>\n",
              "      <th>activity</th>\n",
              "      <th>timestamp</th>\n",
              "      <th>x_axis</th>\n",
              "      <th>y_axis</th>\n",
              "      <th>z_axis</th>\n",
              "    </tr>\n",
              "  </thead>\n",
              "  <tbody>\n",
              "    <tr>\n",
              "      <th>0</th>\n",
              "      <td>33</td>\n",
              "      <td>Jogging</td>\n",
              "      <td>49105962326000</td>\n",
              "      <td>-0.694638</td>\n",
              "      <td>12.680544</td>\n",
              "      <td>0.503953</td>\n",
              "    </tr>\n",
              "    <tr>\n",
              "      <th>1</th>\n",
              "      <td>33</td>\n",
              "      <td>Jogging</td>\n",
              "      <td>49106062271000</td>\n",
              "      <td>5.012288</td>\n",
              "      <td>11.264028</td>\n",
              "      <td>0.953424</td>\n",
              "    </tr>\n",
              "    <tr>\n",
              "      <th>2</th>\n",
              "      <td>33</td>\n",
              "      <td>Jogging</td>\n",
              "      <td>49106112167000</td>\n",
              "      <td>4.903325</td>\n",
              "      <td>10.882658</td>\n",
              "      <td>-0.081722</td>\n",
              "    </tr>\n",
              "    <tr>\n",
              "      <th>3</th>\n",
              "      <td>33</td>\n",
              "      <td>Jogging</td>\n",
              "      <td>49106222305000</td>\n",
              "      <td>-0.612916</td>\n",
              "      <td>18.496431</td>\n",
              "      <td>3.023717</td>\n",
              "    </tr>\n",
              "    <tr>\n",
              "      <th>4</th>\n",
              "      <td>33</td>\n",
              "      <td>Jogging</td>\n",
              "      <td>49106332290000</td>\n",
              "      <td>-1.184970</td>\n",
              "      <td>12.108489</td>\n",
              "      <td>7.205164</td>\n",
              "    </tr>\n",
              "    <tr>\n",
              "      <th>...</th>\n",
              "      <td>...</td>\n",
              "      <td>...</td>\n",
              "      <td>...</td>\n",
              "      <td>...</td>\n",
              "      <td>...</td>\n",
              "      <td>...</td>\n",
              "    </tr>\n",
              "    <tr>\n",
              "      <th>1098199</th>\n",
              "      <td>19</td>\n",
              "      <td>Sitting</td>\n",
              "      <td>131623331483000</td>\n",
              "      <td>9.000000</td>\n",
              "      <td>-1.570000</td>\n",
              "      <td>1.690000</td>\n",
              "    </tr>\n",
              "    <tr>\n",
              "      <th>1098200</th>\n",
              "      <td>19</td>\n",
              "      <td>Sitting</td>\n",
              "      <td>131623371431000</td>\n",
              "      <td>9.040000</td>\n",
              "      <td>-1.460000</td>\n",
              "      <td>1.730000</td>\n",
              "    </tr>\n",
              "    <tr>\n",
              "      <th>1098201</th>\n",
              "      <td>19</td>\n",
              "      <td>Sitting</td>\n",
              "      <td>131623411592000</td>\n",
              "      <td>9.080000</td>\n",
              "      <td>-1.380000</td>\n",
              "      <td>1.690000</td>\n",
              "    </tr>\n",
              "    <tr>\n",
              "      <th>1098202</th>\n",
              "      <td>19</td>\n",
              "      <td>Sitting</td>\n",
              "      <td>131623491487000</td>\n",
              "      <td>9.000000</td>\n",
              "      <td>-1.460000</td>\n",
              "      <td>1.730000</td>\n",
              "    </tr>\n",
              "    <tr>\n",
              "      <th>1098203</th>\n",
              "      <td>19</td>\n",
              "      <td>Sitting</td>\n",
              "      <td>131623531465000</td>\n",
              "      <td>8.880000</td>\n",
              "      <td>-1.330000</td>\n",
              "      <td>1.610000</td>\n",
              "    </tr>\n",
              "  </tbody>\n",
              "</table>\n",
              "<p>1098203 rows × 6 columns</p>\n",
              "</div>\n",
              "      <button class=\"colab-df-convert\" onclick=\"convertToInteractive('df-dabeb154-a06d-499b-9db8-2de3c0494084')\"\n",
              "              title=\"Convert this dataframe to an interactive table.\"\n",
              "              style=\"display:none;\">\n",
              "        \n",
              "  <svg xmlns=\"http://www.w3.org/2000/svg\" height=\"24px\"viewBox=\"0 0 24 24\"\n",
              "       width=\"24px\">\n",
              "    <path d=\"M0 0h24v24H0V0z\" fill=\"none\"/>\n",
              "    <path d=\"M18.56 5.44l.94 2.06.94-2.06 2.06-.94-2.06-.94-.94-2.06-.94 2.06-2.06.94zm-11 1L8.5 8.5l.94-2.06 2.06-.94-2.06-.94L8.5 2.5l-.94 2.06-2.06.94zm10 10l.94 2.06.94-2.06 2.06-.94-2.06-.94-.94-2.06-.94 2.06-2.06.94z\"/><path d=\"M17.41 7.96l-1.37-1.37c-.4-.4-.92-.59-1.43-.59-.52 0-1.04.2-1.43.59L10.3 9.45l-7.72 7.72c-.78.78-.78 2.05 0 2.83L4 21.41c.39.39.9.59 1.41.59.51 0 1.02-.2 1.41-.59l7.78-7.78 2.81-2.81c.8-.78.8-2.07 0-2.86zM5.41 20L4 18.59l7.72-7.72 1.47 1.35L5.41 20z\"/>\n",
              "  </svg>\n",
              "      </button>\n",
              "      \n",
              "  <style>\n",
              "    .colab-df-container {\n",
              "      display:flex;\n",
              "      flex-wrap:wrap;\n",
              "      gap: 12px;\n",
              "    }\n",
              "\n",
              "    .colab-df-convert {\n",
              "      background-color: #E8F0FE;\n",
              "      border: none;\n",
              "      border-radius: 50%;\n",
              "      cursor: pointer;\n",
              "      display: none;\n",
              "      fill: #1967D2;\n",
              "      height: 32px;\n",
              "      padding: 0 0 0 0;\n",
              "      width: 32px;\n",
              "    }\n",
              "\n",
              "    .colab-df-convert:hover {\n",
              "      background-color: #E2EBFA;\n",
              "      box-shadow: 0px 1px 2px rgba(60, 64, 67, 0.3), 0px 1px 3px 1px rgba(60, 64, 67, 0.15);\n",
              "      fill: #174EA6;\n",
              "    }\n",
              "\n",
              "    [theme=dark] .colab-df-convert {\n",
              "      background-color: #3B4455;\n",
              "      fill: #D2E3FC;\n",
              "    }\n",
              "\n",
              "    [theme=dark] .colab-df-convert:hover {\n",
              "      background-color: #434B5C;\n",
              "      box-shadow: 0px 1px 3px 1px rgba(0, 0, 0, 0.15);\n",
              "      filter: drop-shadow(0px 1px 2px rgba(0, 0, 0, 0.3));\n",
              "      fill: #FFFFFF;\n",
              "    }\n",
              "  </style>\n",
              "\n",
              "      <script>\n",
              "        const buttonEl =\n",
              "          document.querySelector('#df-dabeb154-a06d-499b-9db8-2de3c0494084 button.colab-df-convert');\n",
              "        buttonEl.style.display =\n",
              "          google.colab.kernel.accessAllowed ? 'block' : 'none';\n",
              "\n",
              "        async function convertToInteractive(key) {\n",
              "          const element = document.querySelector('#df-dabeb154-a06d-499b-9db8-2de3c0494084');\n",
              "          const dataTable =\n",
              "            await google.colab.kernel.invokeFunction('convertToInteractive',\n",
              "                                                     [key], {});\n",
              "          if (!dataTable) return;\n",
              "\n",
              "          const docLinkHtml = 'Like what you see? Visit the ' +\n",
              "            '<a target=\"_blank\" href=https://colab.research.google.com/notebooks/data_table.ipynb>data table notebook</a>'\n",
              "            + ' to learn more about interactive tables.';\n",
              "          element.innerHTML = '';\n",
              "          dataTable['output_type'] = 'display_data';\n",
              "          await google.colab.output.renderOutput(dataTable, element);\n",
              "          const docLink = document.createElement('div');\n",
              "          docLink.innerHTML = docLinkHtml;\n",
              "          element.appendChild(docLink);\n",
              "        }\n",
              "      </script>\n",
              "    </div>\n",
              "  </div>\n",
              "  "
            ]
          },
          "metadata": {},
          "execution_count": 48
        }
      ]
    },
    {
      "cell_type": "code",
      "source": [
        "user1 = df[df['user_id']==33]"
      ],
      "metadata": {
        "id": "eUfHZY-5uC4d"
      },
      "id": "eUfHZY-5uC4d",
      "execution_count": 61,
      "outputs": []
    },
    {
      "cell_type": "code",
      "source": [
        "user1"
      ],
      "metadata": {
        "id": "ZM3YoopMv5aX",
        "outputId": "d5829552-8785-4b35-beba-c50c3b71ee4f",
        "colab": {
          "base_uri": "https://localhost:8080/",
          "height": 424
        }
      },
      "id": "ZM3YoopMv5aX",
      "execution_count": 62,
      "outputs": [
        {
          "output_type": "execute_result",
          "data": {
            "text/plain": [
              "        user_id activity       timestamp    x_axis     y_axis    z_axis\n",
              "0            33  Jogging  49105962326000 -0.694638  12.680544  0.503953\n",
              "1            33  Jogging  49106062271000  5.012288  11.264028  0.953424\n",
              "2            33  Jogging  49106112167000  4.903325  10.882658 -0.081722\n",
              "3            33  Jogging  49106222305000 -0.612916  18.496431  3.023717\n",
              "4            33  Jogging  49106332290000 -1.184970  12.108489  7.205164\n",
              "...         ...      ...             ...       ...        ...       ...\n",
              "467623       33  Sitting    774582347000  5.860000   2.180000  7.740000\n",
              "467624       33  Sitting    774632335000  6.020000   2.410000  7.890000\n",
              "467625       33  Sitting    774682292000  5.860000   2.410000  7.780000\n",
              "467626       33  Sitting    774732310000  5.710000   2.300000  7.780000\n",
              "467627       33  Sitting    774782298000  5.830000   2.300000  7.860000\n",
              "\n",
              "[29453 rows x 6 columns]"
            ],
            "text/html": [
              "\n",
              "  <div id=\"df-742a1544-bc13-4691-869f-eaac78d67a43\">\n",
              "    <div class=\"colab-df-container\">\n",
              "      <div>\n",
              "<style scoped>\n",
              "    .dataframe tbody tr th:only-of-type {\n",
              "        vertical-align: middle;\n",
              "    }\n",
              "\n",
              "    .dataframe tbody tr th {\n",
              "        vertical-align: top;\n",
              "    }\n",
              "\n",
              "    .dataframe thead th {\n",
              "        text-align: right;\n",
              "    }\n",
              "</style>\n",
              "<table border=\"1\" class=\"dataframe\">\n",
              "  <thead>\n",
              "    <tr style=\"text-align: right;\">\n",
              "      <th></th>\n",
              "      <th>user_id</th>\n",
              "      <th>activity</th>\n",
              "      <th>timestamp</th>\n",
              "      <th>x_axis</th>\n",
              "      <th>y_axis</th>\n",
              "      <th>z_axis</th>\n",
              "    </tr>\n",
              "  </thead>\n",
              "  <tbody>\n",
              "    <tr>\n",
              "      <th>0</th>\n",
              "      <td>33</td>\n",
              "      <td>Jogging</td>\n",
              "      <td>49105962326000</td>\n",
              "      <td>-0.694638</td>\n",
              "      <td>12.680544</td>\n",
              "      <td>0.503953</td>\n",
              "    </tr>\n",
              "    <tr>\n",
              "      <th>1</th>\n",
              "      <td>33</td>\n",
              "      <td>Jogging</td>\n",
              "      <td>49106062271000</td>\n",
              "      <td>5.012288</td>\n",
              "      <td>11.264028</td>\n",
              "      <td>0.953424</td>\n",
              "    </tr>\n",
              "    <tr>\n",
              "      <th>2</th>\n",
              "      <td>33</td>\n",
              "      <td>Jogging</td>\n",
              "      <td>49106112167000</td>\n",
              "      <td>4.903325</td>\n",
              "      <td>10.882658</td>\n",
              "      <td>-0.081722</td>\n",
              "    </tr>\n",
              "    <tr>\n",
              "      <th>3</th>\n",
              "      <td>33</td>\n",
              "      <td>Jogging</td>\n",
              "      <td>49106222305000</td>\n",
              "      <td>-0.612916</td>\n",
              "      <td>18.496431</td>\n",
              "      <td>3.023717</td>\n",
              "    </tr>\n",
              "    <tr>\n",
              "      <th>4</th>\n",
              "      <td>33</td>\n",
              "      <td>Jogging</td>\n",
              "      <td>49106332290000</td>\n",
              "      <td>-1.184970</td>\n",
              "      <td>12.108489</td>\n",
              "      <td>7.205164</td>\n",
              "    </tr>\n",
              "    <tr>\n",
              "      <th>...</th>\n",
              "      <td>...</td>\n",
              "      <td>...</td>\n",
              "      <td>...</td>\n",
              "      <td>...</td>\n",
              "      <td>...</td>\n",
              "      <td>...</td>\n",
              "    </tr>\n",
              "    <tr>\n",
              "      <th>467623</th>\n",
              "      <td>33</td>\n",
              "      <td>Sitting</td>\n",
              "      <td>774582347000</td>\n",
              "      <td>5.860000</td>\n",
              "      <td>2.180000</td>\n",
              "      <td>7.740000</td>\n",
              "    </tr>\n",
              "    <tr>\n",
              "      <th>467624</th>\n",
              "      <td>33</td>\n",
              "      <td>Sitting</td>\n",
              "      <td>774632335000</td>\n",
              "      <td>6.020000</td>\n",
              "      <td>2.410000</td>\n",
              "      <td>7.890000</td>\n",
              "    </tr>\n",
              "    <tr>\n",
              "      <th>467625</th>\n",
              "      <td>33</td>\n",
              "      <td>Sitting</td>\n",
              "      <td>774682292000</td>\n",
              "      <td>5.860000</td>\n",
              "      <td>2.410000</td>\n",
              "      <td>7.780000</td>\n",
              "    </tr>\n",
              "    <tr>\n",
              "      <th>467626</th>\n",
              "      <td>33</td>\n",
              "      <td>Sitting</td>\n",
              "      <td>774732310000</td>\n",
              "      <td>5.710000</td>\n",
              "      <td>2.300000</td>\n",
              "      <td>7.780000</td>\n",
              "    </tr>\n",
              "    <tr>\n",
              "      <th>467627</th>\n",
              "      <td>33</td>\n",
              "      <td>Sitting</td>\n",
              "      <td>774782298000</td>\n",
              "      <td>5.830000</td>\n",
              "      <td>2.300000</td>\n",
              "      <td>7.860000</td>\n",
              "    </tr>\n",
              "  </tbody>\n",
              "</table>\n",
              "<p>29453 rows × 6 columns</p>\n",
              "</div>\n",
              "      <button class=\"colab-df-convert\" onclick=\"convertToInteractive('df-742a1544-bc13-4691-869f-eaac78d67a43')\"\n",
              "              title=\"Convert this dataframe to an interactive table.\"\n",
              "              style=\"display:none;\">\n",
              "        \n",
              "  <svg xmlns=\"http://www.w3.org/2000/svg\" height=\"24px\"viewBox=\"0 0 24 24\"\n",
              "       width=\"24px\">\n",
              "    <path d=\"M0 0h24v24H0V0z\" fill=\"none\"/>\n",
              "    <path d=\"M18.56 5.44l.94 2.06.94-2.06 2.06-.94-2.06-.94-.94-2.06-.94 2.06-2.06.94zm-11 1L8.5 8.5l.94-2.06 2.06-.94-2.06-.94L8.5 2.5l-.94 2.06-2.06.94zm10 10l.94 2.06.94-2.06 2.06-.94-2.06-.94-.94-2.06-.94 2.06-2.06.94z\"/><path d=\"M17.41 7.96l-1.37-1.37c-.4-.4-.92-.59-1.43-.59-.52 0-1.04.2-1.43.59L10.3 9.45l-7.72 7.72c-.78.78-.78 2.05 0 2.83L4 21.41c.39.39.9.59 1.41.59.51 0 1.02-.2 1.41-.59l7.78-7.78 2.81-2.81c.8-.78.8-2.07 0-2.86zM5.41 20L4 18.59l7.72-7.72 1.47 1.35L5.41 20z\"/>\n",
              "  </svg>\n",
              "      </button>\n",
              "      \n",
              "  <style>\n",
              "    .colab-df-container {\n",
              "      display:flex;\n",
              "      flex-wrap:wrap;\n",
              "      gap: 12px;\n",
              "    }\n",
              "\n",
              "    .colab-df-convert {\n",
              "      background-color: #E8F0FE;\n",
              "      border: none;\n",
              "      border-radius: 50%;\n",
              "      cursor: pointer;\n",
              "      display: none;\n",
              "      fill: #1967D2;\n",
              "      height: 32px;\n",
              "      padding: 0 0 0 0;\n",
              "      width: 32px;\n",
              "    }\n",
              "\n",
              "    .colab-df-convert:hover {\n",
              "      background-color: #E2EBFA;\n",
              "      box-shadow: 0px 1px 2px rgba(60, 64, 67, 0.3), 0px 1px 3px 1px rgba(60, 64, 67, 0.15);\n",
              "      fill: #174EA6;\n",
              "    }\n",
              "\n",
              "    [theme=dark] .colab-df-convert {\n",
              "      background-color: #3B4455;\n",
              "      fill: #D2E3FC;\n",
              "    }\n",
              "\n",
              "    [theme=dark] .colab-df-convert:hover {\n",
              "      background-color: #434B5C;\n",
              "      box-shadow: 0px 1px 3px 1px rgba(0, 0, 0, 0.15);\n",
              "      filter: drop-shadow(0px 1px 2px rgba(0, 0, 0, 0.3));\n",
              "      fill: #FFFFFF;\n",
              "    }\n",
              "  </style>\n",
              "\n",
              "      <script>\n",
              "        const buttonEl =\n",
              "          document.querySelector('#df-742a1544-bc13-4691-869f-eaac78d67a43 button.colab-df-convert');\n",
              "        buttonEl.style.display =\n",
              "          google.colab.kernel.accessAllowed ? 'block' : 'none';\n",
              "\n",
              "        async function convertToInteractive(key) {\n",
              "          const element = document.querySelector('#df-742a1544-bc13-4691-869f-eaac78d67a43');\n",
              "          const dataTable =\n",
              "            await google.colab.kernel.invokeFunction('convertToInteractive',\n",
              "                                                     [key], {});\n",
              "          if (!dataTable) return;\n",
              "\n",
              "          const docLinkHtml = 'Like what you see? Visit the ' +\n",
              "            '<a target=\"_blank\" href=https://colab.research.google.com/notebooks/data_table.ipynb>data table notebook</a>'\n",
              "            + ' to learn more about interactive tables.';\n",
              "          element.innerHTML = '';\n",
              "          dataTable['output_type'] = 'display_data';\n",
              "          await google.colab.output.renderOutput(dataTable, element);\n",
              "          const docLink = document.createElement('div');\n",
              "          docLink.innerHTML = docLinkHtml;\n",
              "          element.appendChild(docLink);\n",
              "        }\n",
              "      </script>\n",
              "    </div>\n",
              "  </div>\n",
              "  "
            ]
          },
          "metadata": {},
          "execution_count": 62
        }
      ]
    },
    {
      "cell_type": "code",
      "source": [
        "sns.countplot(x = 'user_id',\n",
        "              data = df,\n",
        "              palette=[sns.color_palette()[0]],\n",
        "              order = df.user_id.value_counts().index);\n",
        "plt.title(\"Records per user\");"
      ],
      "metadata": {
        "id": "x-zUAnvduMYk",
        "outputId": "dc78f6bd-1f69-49c7-cd4c-2f7f30484fa0",
        "colab": {
          "base_uri": "https://localhost:8080/",
          "height": 296
        }
      },
      "id": "x-zUAnvduMYk",
      "execution_count": 47,
      "outputs": [
        {
          "output_type": "display_data",
          "data": {
            "text/plain": [
              "<Figure size 432x288 with 1 Axes>"
            ],
            "image/png": "[encoded data removed]"
          },
          "metadata": {
            "needs_background": "light"
          }
        }
      ]
    },
    {
      "cell_type": "code",
      "source": [
        "def plot_activity(activity, df):\n",
        "    data = df[df['activity'] == activity][['x_axis', 'y_axis', 'z_axis']][:]\n",
        "    axis = data.plot(subplots=True, figsize=(16, 12), \n",
        "                     title=activity)\n",
        "    for ax in axis:\n",
        "        ax.legend(loc='lower left', bbox_to_anchor=(1.0, 0.5))\n",
        "plot_activity(\"Sitting\", df[df['user_id']==20]);"
      ],
      "metadata": {
        "id": "KTuwcwejZhyo",
        "outputId": "7faac57d-e86c-41a3-c81e-d94d0f7c8ea5",
        "colab": {
          "base_uri": "https://localhost:8080/",
          "height": 739
        }
      },
      "id": "KTuwcwejZhyo",
      "execution_count": 65,
      "outputs": [
        {
          "output_type": "display_data",
          "data": {
            "text/plain": [
              "<Figure size 1152x864 with 3 Axes>"
            ],
            "image/png": "[encoded data removed]"
          },
          "metadata": {
            "needs_background": "light"
          }
        }
      ]
    },
    {
      "cell_type": "code",
      "source": [
        "df_train = df[df['user_id'] <= 30]\n",
        "df_test = df[df['user_id'] > 30]"
      ],
      "metadata": {
        "id": "mQTD2FiNAIzr"
      },
      "id": "mQTD2FiNAIzr",
      "execution_count": 9,
      "outputs": []
    },
    {
      "cell_type": "code",
      "source": [
        "scale_columns = ['x_axis', 'y_axis', 'z_axis']\n",
        "\n",
        "scaler = RobustScaler()\n",
        "\n",
        "scaler = scaler.fit(df_train[scale_columns])\n",
        "\n",
        "df_train.loc[:, scale_columns] = scaler.transform(\n",
        "  df_train[scale_columns].to_numpy()\n",
        ")\n",
        "\n",
        "df_test.loc[:, scale_columns] = scaler.transform(\n",
        "  df_test[scale_columns].to_numpy()\n",
        ")"
      ],
      "metadata": {
        "id": "Pg_g7lYdEqAq",
        "outputId": "e12a5e21-8fef-40b4-8d48-969f73e8633d",
        "colab": {
          "base_uri": "https://localhost:8080/"
        }
      },
      "id": "Pg_g7lYdEqAq",
      "execution_count": 12,
      "outputs": [
        {
          "output_type": "stream",
          "name": "stderr",
          "text": [
            "/usr/local/lib/python3.7/dist-packages/sklearn/base.py:451: UserWarning: X does not have valid feature names, but RobustScaler was fitted with feature names\n",
            "  \"X does not have valid feature names, but\"\n",
            "/usr/local/lib/python3.7/dist-packages/pandas/core/indexing.py:1835: SettingWithCopyWarning: \n",
            "A value is trying to be set on a copy of a slice from a DataFrame.\n",
            "Try using .loc[row_indexer,col_indexer] = value instead\n",
            "\n",
            "See the caveats in the documentation: https://pandas.pydata.org/pandas-docs/stable/user_guide/indexing.html#returning-a-view-versus-a-copy\n",
            "  self._setitem_single_column(loc, value[:, i].tolist(), pi)\n",
            "/usr/local/lib/python3.7/dist-packages/sklearn/base.py:451: UserWarning: X does not have valid feature names, but RobustScaler was fitted with feature names\n",
            "  \"X does not have valid feature names, but\"\n",
            "/usr/local/lib/python3.7/dist-packages/pandas/core/indexing.py:1835: SettingWithCopyWarning: \n",
            "A value is trying to be set on a copy of a slice from a DataFrame.\n",
            "Try using .loc[row_indexer,col_indexer] = value instead\n",
            "\n",
            "See the caveats in the documentation: https://pandas.pydata.org/pandas-docs/stable/user_guide/indexing.html#returning-a-view-versus-a-copy\n",
            "  self._setitem_single_column(loc, value[:, i].tolist(), pi)\n"
          ]
        }
      ]
    },
    {
      "cell_type": "code",
      "source": [
        "def create_dataset(X, y, time_steps=1, step=1):\n",
        "    Xs, ys = [], []\n",
        "    for i in range(0, len(X) - time_steps, step):\n",
        "        v = X.iloc[i:(i + time_steps)].values\n",
        "        labels = y.iloc[i: i + time_steps]\n",
        "        Xs.append(v)\n",
        "        ys.append(stats.mode(labels)[0][0])\n",
        "    return np.array(Xs), np.array(ys).reshape(-1, 1)\n",
        "    "
      ],
      "metadata": {
        "id": "H2lY5I62E4ew"
      },
      "id": "H2lY5I62E4ew",
      "execution_count": 13,
      "outputs": []
    },
    {
      "cell_type": "code",
      "source": [
        "TIME_STEPS = 200\n",
        "STEP = 40\n",
        "\n",
        "X_train, y_train = create_dataset(\n",
        "    df_train[['x_axis', 'y_axis', 'z_axis']],\n",
        "    df_train.activity,\n",
        "    TIME_STEPS,\n",
        "    STEP\n",
        ")\n",
        "\n",
        "X_test, y_test = create_dataset(\n",
        "    df_test[['x_axis', 'y_axis', 'z_axis']],\n",
        "    df_test.activity,\n",
        "    TIME_STEPS,\n",
        "    STEP\n",
        ")"
      ],
      "metadata": {
        "id": "GN98YVGpE67O"
      },
      "id": "GN98YVGpE67O",
      "execution_count": 17,
      "outputs": []
    },
    {
      "cell_type": "code",
      "source": [
        "print(X_train.shape, y_train.shape)"
      ],
      "metadata": {
        "id": "Iu4qc_xLFNgT",
        "outputId": "ae50dccf-12da-44ee-a0a1-775d387a5a07",
        "colab": {
          "base_uri": "https://localhost:8080/"
        }
      },
      "id": "Iu4qc_xLFNgT",
      "execution_count": 18,
      "outputs": [
        {
          "output_type": "stream",
          "name": "stdout",
          "text": [
            "(22454, 200, 3) (22454, 1)\n"
          ]
        }
      ]
    },
    {
      "cell_type": "code",
      "source": [
        "enc = OneHotEncoder(handle_unknown='ignore', sparse=False)\n",
        "\n",
        "enc = enc.fit(y_train)\n",
        "\n",
        "y_train = enc.transform(y_train)\n",
        "y_test = enc.transform(y_test)"
      ],
      "metadata": {
        "id": "I7zzmMRoFQtm"
      },
      "id": "I7zzmMRoFQtm",
      "execution_count": 21,
      "outputs": []
    },
    {
      "cell_type": "code",
      "source": [
        "model = keras.Sequential()\n",
        "model.add(\n",
        "    keras.layers.Bidirectional(\n",
        "      keras.layers.LSTM(\n",
        "          units=128,\n",
        "          input_shape=[X_train.shape[1], X_train.shape[2]]\n",
        "      )\n",
        "    )\n",
        ")\n",
        "model.add(keras.layers.Dropout(rate=0.5))\n",
        "model.add(keras.layers.Dense(units=128, activation='relu'))\n",
        "model.add(keras.layers.Dense(y_train.shape[1], activation='softmax'))\n",
        "\n",
        "model.compile(\n",
        "  loss='categorical_crossentropy',\n",
        "  optimizer='adam',\n",
        "  metrics=['acc']\n",
        ")"
      ],
      "metadata": {
        "id": "iLremwIaFhYY"
      },
      "id": "iLremwIaFhYY",
      "execution_count": 23,
      "outputs": []
    },
    {
      "cell_type": "code",
      "source": [
        "history = model.fit(\n",
        "    X_train, y_train,\n",
        "    epochs=20,\n",
        "    batch_size=32,\n",
        "    validation_split=0.1,\n",
        "    shuffle=False\n",
        ")"
      ],
      "metadata": {
        "id": "aHU9oX_hFeeS",
        "outputId": "5a4796a2-cf2c-4a12-9599-6cbc7ad97321",
        "colab": {
          "base_uri": "https://localhost:8080/"
        }
      },
      "id": "aHU9oX_hFeeS",
      "execution_count": 24,
      "outputs": [
        {
          "output_type": "stream",
          "name": "stdout",
          "text": [
            "Epoch 1/20\n",
            "632/632 [==============================] - 197s 300ms/step - loss: 1.4633 - acc: 0.5091 - val_loss: 1.2950 - val_acc: 0.5303\n",
            "Epoch 2/20\n",
            "632/632 [==============================] - 188s 297ms/step - loss: 1.2081 - acc: 0.5779 - val_loss: 1.0793 - val_acc: 0.6380\n",
            "Epoch 3/20\n",
            "632/632 [==============================] - 188s 298ms/step - loss: 1.0042 - acc: 0.6702 - val_loss: 0.9517 - val_acc: 0.7061\n",
            "Epoch 4/20\n",
            "632/632 [==============================] - 189s 299ms/step - loss: 0.8392 - acc: 0.7162 - val_loss: 1.2745 - val_acc: 0.6202\n",
            "Epoch 5/20\n",
            "632/632 [==============================] - 190s 300ms/step - loss: 0.8095 - acc: 0.7274 - val_loss: 0.7074 - val_acc: 0.7654\n",
            "Epoch 6/20\n",
            "632/632 [==============================] - 189s 298ms/step - loss: 0.7325 - acc: 0.7420 - val_loss: 0.7453 - val_acc: 0.7418\n",
            "Epoch 7/20\n",
            "632/632 [==============================] - 188s 298ms/step - loss: 0.6793 - acc: 0.7490 - val_loss: 1.2223 - val_acc: 0.7801\n",
            "Epoch 8/20\n",
            "632/632 [==============================] - 189s 298ms/step - loss: 0.6500 - acc: 0.7682 - val_loss: 1.4554 - val_acc: 0.5107\n",
            "Epoch 9/20\n",
            "632/632 [==============================] - 189s 298ms/step - loss: 0.6185 - acc: 0.7822 - val_loss: 0.9888 - val_acc: 0.7850\n",
            "Epoch 10/20\n",
            "632/632 [==============================] - 189s 299ms/step - loss: 0.5378 - acc: 0.8067 - val_loss: 0.7180 - val_acc: 0.7823\n",
            "Epoch 11/20\n",
            "632/632 [==============================] - 189s 299ms/step - loss: 0.4634 - acc: 0.8310 - val_loss: 0.9969 - val_acc: 0.7703\n",
            "Epoch 12/20\n",
            "632/632 [==============================] - 193s 305ms/step - loss: 0.4493 - acc: 0.8322 - val_loss: 1.6794 - val_acc: 0.7021\n",
            "Epoch 13/20\n",
            "632/632 [==============================] - 190s 301ms/step - loss: 0.5874 - acc: 0.7945 - val_loss: 1.0556 - val_acc: 0.7939\n",
            "Epoch 14/20\n",
            "632/632 [==============================] - 190s 300ms/step - loss: 0.4415 - acc: 0.8426 - val_loss: 0.6931 - val_acc: 0.8001\n",
            "Epoch 15/20\n",
            "632/632 [==============================] - 190s 300ms/step - loss: 0.3688 - acc: 0.8688 - val_loss: 0.6983 - val_acc: 0.7996\n",
            "Epoch 16/20\n",
            "632/632 [==============================] - 190s 301ms/step - loss: 0.4862 - acc: 0.8246 - val_loss: 0.8333 - val_acc: 0.7605\n",
            "Epoch 17/20\n",
            "632/632 [==============================] - 190s 301ms/step - loss: 0.5569 - acc: 0.7982 - val_loss: 0.5956 - val_acc: 0.8072\n",
            "Epoch 18/20\n",
            "632/632 [==============================] - 190s 301ms/step - loss: 0.4669 - acc: 0.8367 - val_loss: 1.1321 - val_acc: 0.7587\n",
            "Epoch 19/20\n",
            "632/632 [==============================] - 190s 301ms/step - loss: 0.3782 - acc: 0.8687 - val_loss: 0.7353 - val_acc: 0.8277\n",
            "Epoch 20/20\n",
            "632/632 [==============================] - 190s 301ms/step - loss: 0.3201 - acc: 0.8937 - val_loss: 1.1956 - val_acc: 0.7337\n"
          ]
        }
      ]
    },
    {
      "cell_type": "code",
      "source": [
        "plt.plot(history.history['loss'], label='train')\n",
        "plt.plot(history.history['val_loss'], label='test')\n",
        "plt.legend();"
      ],
      "metadata": {
        "id": "u9GzxEuKUSNb",
        "outputId": "e6ce25ec-e41d-47b0-d619-b10920c29ffe",
        "colab": {
          "base_uri": "https://localhost:8080/",
          "height": 265
        }
      },
      "id": "u9GzxEuKUSNb",
      "execution_count": 25,
      "outputs": [
        {
          "output_type": "display_data",
          "data": {
            "text/plain": [
              "<Figure size 432x288 with 1 Axes>"
            ],
            "image/png": "[encoded data removed]"
          },
          "metadata": {
            "needs_background": "light"
          }
        }
      ]
    },
    {
      "cell_type": "code",
      "source": [
        "model.evaluate(X_test, y_test)"
      ],
      "metadata": {
        "id": "Qmtuzc4wUVk7",
        "outputId": "c835e4d6-444c-4040-ad35-3a078ee316fb",
        "colab": {
          "base_uri": "https://localhost:8080/"
        }
      },
      "id": "Qmtuzc4wUVk7",
      "execution_count": 26,
      "outputs": [
        {
          "output_type": "stream",
          "name": "stdout",
          "text": [
            "156/156 [==============================] - 12s 72ms/step - loss: 1.1447 - acc: 0.7520\n"
          ]
        },
        {
          "output_type": "execute_result",
          "data": {
            "text/plain": [
              "[1.1446508169174194, 0.7520031929016113]"
            ]
          },
          "metadata": {},
          "execution_count": 26
        }
      ]
    },
    {
      "cell_type": "code",
      "source": [
        "y_pred = model.predict(X_test)"
      ],
      "metadata": {
        "id": "a-JMzv1HUmcQ"
      },
      "id": "a-JMzv1HUmcQ",
      "execution_count": 27,
      "outputs": []
    },
    {
      "cell_type": "code",
      "source": [
        "from sklearn.metrics import confusion_matrix\n",
        "\n",
        "def plot_cm(y_true, y_pred, class_names):\n",
        "  cm = confusion_matrix(y_true, y_pred)\n",
        "  fig, ax = plt.subplots(figsize=(18, 16)) \n",
        "  ax = sns.heatmap(\n",
        "      cm, \n",
        "      annot=True, \n",
        "      fmt=\"d\", \n",
        "      cmap=sns.diverging_palette(220, 20, n=7),\n",
        "      ax=ax\n",
        "  )\n",
        "\n",
        "  plt.ylabel('Actual')\n",
        "  plt.xlabel('Predicted')\n",
        "  ax.set_xticklabels(class_names)\n",
        "  ax.set_yticklabels(class_names)\n",
        "  b, t = plt.ylim() # discover the values for bottom and top\n",
        "  b += 0.5 # Add 0.5 to the bottom\n",
        "  t -= 0.5 # Subtract 0.5 from the top\n",
        "  plt.ylim(b, t) # update the ylim(bottom, top) values\n",
        "  plt.show() # ta-da!"
      ],
      "metadata": {
        "id": "-Z8KsaVoUqhL"
      },
      "id": "-Z8KsaVoUqhL",
      "execution_count": 28,
      "outputs": []
    },
    {
      "cell_type": "code",
      "source": [
        "plot_cm(\n",
        "  enc.inverse_transform(y_test),\n",
        "  enc.inverse_transform(y_pred),\n",
        "  enc.categories_[0]\n",
        ")"
      ],
      "metadata": {
        "id": "tT4EdJkQUtUc",
        "outputId": "8d61b708-7b49-4125-f324-243591ed463b",
        "colab": {
          "base_uri": "https://localhost:8080/",
          "height": 907
        }
      },
      "id": "tT4EdJkQUtUc",
      "execution_count": 31,
      "outputs": [
        {
          "output_type": "display_data",
          "data": {
            "text/plain": [
              "<Figure size 1296x1152 with 2 Axes>"
            ],
            "image/png": "[encoded data removed]"
          },
          "metadata": {
            "needs_background": "light"
          }
        }
      ]
    },
    {
      "cell_type": "markdown",
      "source": [
        "# References\n",
        "\n",
        "[HAYKIN, Simon. Redes Neurais: Princípios e prática. Porto Alegre\n",
        "RS:Bookman, 2001.](https://www.amazon.com.br/Redes-Neurais-Princ%C3%ADpios-Simon-Haykin-ebook/dp/B073QSG69Y)\n",
        "\n",
        "https://www.w3schools.com/python/python_classes.asp\n",
        "\n",
        "https://towardsdatascience.com/understanding-variational-autoencoders-vaes-f70510919f73?gi=21e42fd28916\n",
        "\n",
        "https://www.kaggle.com/code/phelpsmemo/cap-351-neurocomputacao-projeto4-autoencoder\n",
        "\n",
        "https://www.kaggle.com/code/rvislaywade/visualizing-mnist-using-a-variational-autoencoder\n",
        "\n",
        "https://youtu.be/Ey8IZQl_lKs\n",
        "\n",
        "\n"
      ],
      "metadata": {
        "id": "WCznS0b0J-6t"
      },
      "id": "WCznS0b0J-6t"
    }
  ],
  "metadata": {
    "kernelspec": {
      "display_name": "Python 3",
      "language": "python",
      "name": "python3"
    },
    "language_info": {
      "codemirror_mode": {
        "name": "ipython",
        "version": 3
      },
      "file_extension": ".py",
      "mimetype": "text/x-python",
      "name": "python",
      "nbconvert_exporter": "python",
      "pygments_lexer": "ipython3",
      "version": "3.7.7"
    },
    "colab": {
      "name": "Project_05_RNN.ipynb",
      "provenance": [],
      "collapsed_sections": [],
      "toc_visible": true,
      "include_colab_link": true
    }
  },
  "nbformat": 4,
  "nbformat_minor": 5
}