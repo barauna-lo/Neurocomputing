{
  "nbformat": 4,
  "nbformat_minor": 0,
  "metadata": {
    "colab": {
      "name": "Project 01 - MLP.ipynb",
      "provenance": [],
      "authorship_tag": "ABX9TyPtfYNlRTVKJ6rA0a3yuXQc",
      "include_colab_link": true
    },
    "kernelspec": {
      "name": "python3",
      "display_name": "Python 3"
    },
    "language_info": {
      "name": "python"
    }
  },
  "cells": [
    {
      "cell_type": "markdown",
      "metadata": {
        "id": "view-in-github",
        "colab_type": "text"
      },
      "source": [
        "<a href=\"https://colab.research.google.com/github/barauna-lo/Neurocomputing/blob/main/Project_01_MLP.ipynb\" target=\"_parent\"><img src=\"https://colab.research.google.com/assets/colab-badge.svg\" alt=\"Open In Colab\"/></a>"
      ]
    },
    {
      "cell_type": "markdown",
      "source": [
        "[<img src=https://raw.githubusercontent.com/barauna-lo/CAP4213-Deep-Learning/main/logoinpe.png align=”middle”>](https://www.gov.br/inpe/pt-br)\n",
        "\n",
        "[<center><img src=\"https://github.com/barauna-lo/Deep-Learning/blob/main/LogoCAP.png?raw=true\" width = 450 align=\"middle\"></center>](http://www.inpe.br/posgraduacao/cap/)\n",
        "\n",
        "\n",
        "# Project 01 - Multi-layer Perceptron (MLP)\n",
        "\n",
        "* [Luan Orion Baraúna](https://www.linkedin.com/in/luan-orion-barauna/)\n",
        "\n",
        "\n",
        "## PROJETO 1 – REDE MLP\n",
        "\n",
        "1. Selecionar dois datasets (não triviais)\n",
        "\n",
        "  * Um dataset para classificação\n",
        "  * Um dataset para regressão\n",
        "  * Separar em treino/validação/teste\n",
        "\n",
        "2. Treinar modelos MLP para os dois problemas\n",
        "\n",
        "3. Considerar:\n",
        "\n",
        "  * Diferentes topologias (>=5 topologias, variar número de\n",
        "camadas)\n",
        "\n",
        "  * Usar o algoritmo original SGD (não usar algoritmos otimizados,\n",
        "e.g. ADAM)\n",
        "  \n",
        "  * Avaliar o impacto do uso do Momentum\n",
        "\n",
        "  * Avaliar o impacto do uso da regularização (i.e. L2)\n",
        "\n",
        "4. Ilustrar graficamente a evolução do treinamento (treino/validação).\n",
        "\n",
        "5. Confeccionar um relatório (reprodutível) contendo os\n",
        "experimentos e resultados"
      ],
      "metadata": {
        "id": "23dJ3Eu2cFZQ"
      }
    },
    {
      "cell_type": "code",
      "execution_count": null,
      "metadata": {
        "id": "gtBDX79CbDSU"
      },
      "outputs": [],
      "source": [
        ""
      ]
    },
    {
      "cell_type": "markdown",
      "source": [
        ""
      ],
      "metadata": {
        "id": "oXBRSVmkbEdB"
      }
    },
    {
      "cell_type": "markdown",
      "source": [
        ""
      ],
      "metadata": {
        "id": "-O0oAF-TcEuy"
      }
    }
  ]
}