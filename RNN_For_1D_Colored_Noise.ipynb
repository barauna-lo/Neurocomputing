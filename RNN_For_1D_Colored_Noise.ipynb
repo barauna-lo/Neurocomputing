{
  "cells": [
    {
      "cell_type": "markdown",
      "metadata": {
        "id": "view-in-github",
        "colab_type": "text"
      },
      "source": [
        "<a href=\"https://colab.research.google.com/github/barauna-lo/Neurocomputing/blob/main/RNN_For_1D_Colored_Noise.ipynb\" target=\"_parent\"><img src=\"https://colab.research.google.com/assets/colab-badge.svg\" alt=\"Open In Colab\"/></a>"
      ]
    },
    {
      "cell_type": "markdown",
      "metadata": {
        "id": "njofdf92hCMi"
      },
      "source": [
        "# Librarys"
      ]
    },
    {
      "cell_type": "code",
      "execution_count": 7,
      "metadata": {
        "id": "w7q4balXCYAq"
      },
      "outputs": [],
      "source": [
        "import numpy as np\n",
        "import pandas as pd\n",
        "import math\n",
        "import matplotlib.pyplot as plt\n",
        "import tensorflow as tf\n",
        "from tensorflow import keras\n",
        "\n",
        "from keras import Sequential\n",
        "from keras.layers import Conv2D, Flatten, Dense, LSTM, GRU, RNN,SimpleRNN\n",
        "from sklearn.preprocessing import MinMaxScaler, MaxAbsScaler\n",
        "from sklearn.metrics import mean_squared_error\n",
        "from sklearn import preprocessing\n",
        "#from datetime import datetime # for put the time info in each plot          #https://stackoverflow.com/questions/415511/how-to-get-the-current-time-in-python\n",
        "import time as time"
      ]
    },
    {
      "cell_type": "markdown",
      "metadata": {
        "id": "vo1uvnQhhH_6"
      },
      "source": [
        "## Downloading data"
      ]
    },
    {
      "cell_type": "code",
      "execution_count": 2,
      "metadata": {
        "colab": {
          "base_uri": "https://localhost:8080/"
        },
        "id": "lxI5EGUwI5ia",
        "outputId": "3fcec791-7d0c-4a4d-ef78-3e20cd574ad8"
      },
      "outputs": [
        {
          "output_type": "stream",
          "name": "stdout",
          "text": [
            "Mounted at /content/drive\n",
            "/content/drive/MyDrive/Kaggle\n",
            "Downloading synthetic-colored-noise.zip to /content/drive/MyDrive/Kaggle\n",
            "100% 1.16G/1.16G [00:10<00:00, 97.7MB/s]\n",
            "100% 1.16G/1.16G [00:10<00:00, 116MB/s] \n",
            "Archive:  synthetic-colored-noise.zip\n",
            "  inflating: /content/color.csv      \n",
            "  inflating: /content/color.plk      \n",
            "  inflating: /content/color_4series.plk  \n"
          ]
        }
      ],
      "source": [
        "#Monting Google Drive\n",
        "#https://medium.com/analyatics-vidhya/how-to-download-kaggle-datasets-into-google-colab-via-google-drive-dcb348d7af07\n",
        "from google.colab import drive\n",
        "drive.mount('/content/drive')\n",
        "#Importing and conifg the Kaggle Drive\n",
        "import os\n",
        "os.environ['KAGGLE_CONFIG_DIR'] = \"/content/drive/MyDrive/Kaggle\"\n",
        "# Acessing the folder\n",
        "%cd /content/drive/MyDrive/Kaggle/\n",
        "# Dowloading NASA data-set\n",
        "!kaggle datasets download -d luanorionbarana/synthetic-colored-noise\n",
        "#Unziping data-set\n",
        "!unzip \"synthetic-colored-noise.zip\" -d \"/content/\""
      ]
    },
    {
      "cell_type": "code",
      "source": [
        "# Unziping Saved Models\n",
        "!unzip \"model_RNN.zip\" -d \"/content/\"\n",
        "!unzip \"model_LSTM.zip\" -d \"/content/\"\n",
        "!unzip \"model_GRU.zip\" -d \"/content/\""
      ],
      "metadata": {
        "id": "2rKp2G02ElcU",
        "outputId": "b0ebd08b-17be-4917-c613-1b6b0accd9bc",
        "colab": {
          "base_uri": "https://localhost:8080/"
        }
      },
      "execution_count": 4,
      "outputs": [
        {
          "output_type": "stream",
          "name": "stdout",
          "text": [
            "Archive:  model_RNN.zip\n",
            "   creating: /content/content/model_RNN/\n",
            "   creating: /content/content/model_RNN/variables/\n",
            "  inflating: /content/content/model_RNN/variables/variables.index  \n",
            "  inflating: /content/content/model_RNN/variables/variables.data-00000-of-00001  \n",
            "   creating: /content/content/model_RNN/assets/\n",
            "  inflating: /content/content/model_RNN/keras_metadata.pb  \n",
            "  inflating: /content/content/model_RNN/saved_model.pb  \n",
            "Archive:  model_LSTM.zip\n",
            "   creating: /content/content/model_LSTM/\n",
            "   creating: /content/content/model_LSTM/assets/\n",
            "  inflating: /content/content/model_LSTM/keras_metadata.pb  \n",
            "   creating: /content/content/model_LSTM/variables/\n",
            "  inflating: /content/content/model_LSTM/variables/variables.data-00000-of-00001  \n",
            "  inflating: /content/content/model_LSTM/variables/variables.index  \n",
            "  inflating: /content/content/model_LSTM/saved_model.pb  \n",
            "Archive:  model_GRU.zip\n",
            "   creating: /content/content/model_GRU/\n",
            "   creating: /content/content/model_GRU/assets/\n",
            "  inflating: /content/content/model_GRU/keras_metadata.pb  \n",
            "   creating: /content/content/model_GRU/variables/\n",
            "  inflating: /content/content/model_GRU/variables/variables.data-00000-of-00001  \n",
            "  inflating: /content/content/model_GRU/variables/variables.index  \n",
            "  inflating: /content/content/model_GRU/saved_model.pb  \n"
          ]
        }
      ]
    },
    {
      "cell_type": "code",
      "execution_count": 5,
      "metadata": {
        "id": "wbEGU6mBJnX8",
        "colab": {
          "base_uri": "https://localhost:8080/"
        },
        "outputId": "9e8cb2b5-9c94-4aea-d27a-c58a06f757d8"
      },
      "outputs": [
        {
          "output_type": "stream",
          "name": "stdout",
          "text": [
            "/content/drive/MyDrive\n",
            "/content/drive\n",
            "/content\n"
          ]
        }
      ],
      "source": [
        "# #Retorning to Sample folder! NOT NECESSERY\n",
        "%cd ..\n",
        "%cd ..\n",
        "%cd .."
      ]
    },
    {
      "cell_type": "code",
      "source": [
        "model_RNN = keras.models.load_model('/content/content/model_RNN')\n",
        "model_LSTM = keras.models.load_model('/content/content/model_LSTM')\n",
        "model_GRU = keras.models.load_model('/content/content/model_GRU')"
      ],
      "metadata": {
        "id": "8aCWdrcoE6ZX"
      },
      "execution_count": 21,
      "outputs": []
    },
    {
      "cell_type": "code",
      "execution_count": 9,
      "metadata": {
        "id": "9CGrp2SFKC28"
      },
      "outputs": [],
      "source": [
        "df = pd.read_pickle('color_4series.plk')"
      ]
    },
    {
      "cell_type": "markdown",
      "metadata": {
        "id": "WmGJFzx1DoHT"
      },
      "source": [
        "## Ploting"
      ]
    },
    {
      "cell_type": "code",
      "execution_count": 10,
      "metadata": {
        "id": "z_qTTKGblug-"
      },
      "outputs": [],
      "source": [
        "index = [0,4,9]"
      ]
    },
    {
      "cell_type": "code",
      "execution_count": 11,
      "metadata": {
        "id": "INmDqTXJMT6v",
        "colab": {
          "base_uri": "https://localhost:8080/",
          "height": 213
        },
        "outputId": "b201b7d8-205c-40ee-c0ba-e78f33530c88"
      },
      "outputs": [
        {
          "output_type": "execute_result",
          "data": {
            "text/plain": [
              "Text(0, 0.5, 'Amplitude')"
            ]
          },
          "metadata": {},
          "execution_count": 11
        },
        {
          "output_type": "display_data",
          "data": {
            "text/plain": [
              "<Figure size 2000x400 with 3 Axes>"
            ],
            "image/png": "[encoded data removed]"
          },
          "metadata": {
            "needs_background": "light"
          }
        }
      ],
      "source": [
        "color = ['black','pink','red']\n",
        "linewidth = [0.07,0.5,.5]\n",
        "plt.figure(figsize=(20,4),dpi=100)\n",
        "for i in range(len(index)):\n",
        "  plt.subplot(1,3,i+1)\n",
        "  plt.plot(df.Series[index[i]][:],label='β ='+str(df.beta[index[i]]),color=color[i],linewidth=linewidth[i])\n",
        "  plt.grid()\n",
        "  plt.legend()\n",
        "  plt.xlabel('$t$')\n",
        "plt.ylabel('Amplitude')\n",
        "  #plt.title(color[i]+ ' noise')\n",
        "#plt.suptitle('Colored Noise')\n"
      ]
    },
    {
      "cell_type": "markdown",
      "metadata": {
        "id": "RGlsKnlfhPr_"
      },
      "source": [
        "# Pre-processing"
      ]
    },
    {
      "cell_type": "code",
      "execution_count": 12,
      "metadata": {
        "id": "vvU3XrSQhd-t"
      },
      "outputs": [],
      "source": [
        "#serie_index = 0  #white Noise\n",
        "#serie_index = 40 #pink noise\n",
        "serie_index =  9#red Noise\n",
        "\n",
        "min_size , max_size = 0 , len(df.Series[0])\n",
        "\n",
        "dataframe = pd.DataFrame({\"Serie\":df['Series'][serie_index][min_size:max_size]})\n",
        "dataset = dataframe.values.astype('float32')\n",
        "beta = str(df['beta'][serie_index])"
      ]
    },
    {
      "cell_type": "code",
      "execution_count": 13,
      "metadata": {
        "id": "xuk5NekGYe19"
      },
      "outputs": [],
      "source": [
        "# definindo as amostras de treinamento e teste segundo o hold-out.\n",
        "train_size = int(len(dataset) * 0.50)\n",
        "test_size = len(dataset) - train_size\n",
        "train, test = dataset[0:train_size,:], dataset[train_size:len(dataset),:]\n",
        "#val_size = 5000\n",
        "#train, test, val = dataset[0:train_size,:], dataset[train_size:len(dataset),:], dataset[len(dataset):len(dataset)+val_size,:]"
      ]
    },
    {
      "cell_type": "code",
      "execution_count": 14,
      "metadata": {
        "id": "of2BdzhFYgrt"
      },
      "outputs": [],
      "source": [
        "# conversão da série temporal em uma matriz de atributos para regressão\n",
        "def create_dataset(dataset, look_back=10):\n",
        "\t'''\n",
        "  This function will contain two vectors, dataX and dataY, the dataX will contain a set of numbers within the time series\n",
        "  and the dataY will be its posterior value\n",
        "  For example:\n",
        "  list = [0,1,2,3,4,5,6,7,8,9,10,11,12,13,14,15]\n",
        "  if the look_back is equal to 3 we will have\n",
        "  dataX[0] = [0,1,2] ; dataY[0] = [3]\n",
        "  dataX[1] = [1,2,3] ; dataY[1] = [4]\n",
        "  dataX[2] = [2,3,4] ; dataY[2] = [5]\n",
        "  dataX[3] = [3,4,5] ; dataY[3] = [6]\n",
        "\t'''\n",
        "\tdataX, dataY = [], []\n",
        "\tfor i in range(len(dataset)-look_back-1):\n",
        "\t\ta = dataset[i:(i+look_back), 0]\n",
        "\t\tdataX.append(a)\n",
        "\t\tdataY.append(dataset[i + look_back, 0])\n",
        "\treturn np.array(dataX), np.array(dataY)"
      ]
    },
    {
      "cell_type": "code",
      "execution_count": 15,
      "metadata": {
        "id": "tSeXrRhBCkQc"
      },
      "outputs": [],
      "source": [
        "look_back = 1000\n",
        "\n",
        "trainX, trainY = create_dataset(train, look_back)\n",
        "testX, testY   = create_dataset(test,  look_back)\n",
        "#valX, valY     = create_dataset(val,   look_back)\n",
        "\n",
        "# reshape input to be [samples, time steps, features]\n",
        "trainX = np.reshape(trainX,(trainX.shape[0],1, trainX.shape[1]))\n",
        "testX =  np.reshape(testX, (testX.shape[0],1, testX.shape[1]))\n",
        "#valX =   np.reshape(valX,  (valX.shape[0],  1, valX.shape[1]))"
      ]
    },
    {
      "cell_type": "markdown",
      "metadata": {
        "id": "_qdGvQSti0PK"
      },
      "source": [
        "# Model"
      ]
    },
    {
      "cell_type": "code",
      "execution_count": 16,
      "metadata": {
        "id": "1m7zrwfvYjzR"
      },
      "outputs": [],
      "source": [
        "#Setting Random seeds🌱\n",
        "from numpy.random import seed\n",
        "seed(1)\n",
        "import tensorflow\n",
        "tensorflow.random.set_seed(3)"
      ]
    },
    {
      "cell_type": "code",
      "execution_count": 17,
      "metadata": {
        "id": "W_TorsTNuVRx"
      },
      "outputs": [],
      "source": [
        "star = time.time()\n",
        "#Paramenters \n",
        "epochs = 50\n",
        "batch_size = 256#look_back*10\n",
        "#batch_size = len(trainX)# \n",
        "n_1 = int(look_back*1e0)\n",
        "n_2 = int(look_back*1e-1)\n",
        "n_3 = int(look_back*1e-1)\n",
        "n_4 = int(look_back*1e-1)"
      ]
    },
    {
      "cell_type": "code",
      "execution_count": null,
      "metadata": {
        "colab": {
          "background_save": true
        },
        "id": "Aqjt52XuuWaq"
      },
      "outputs": [],
      "source": [
        "star_RNN = time.time()\n",
        "model_RNN = Sequential()\n",
        "model_RNN.add(SimpleRNN(n_1, return_sequences=True,input_shape=(1,look_back)))\n",
        "#model_RNN.add(SimpleRNN(n_2, return_sequences=True))\n",
        "#model_RNN.add(SimpleRNN(n_3, return_sequences=True))\n",
        "model_RNN.add(SimpleRNN(n_4))\n",
        "model_RNN.add(Dense(1))\n",
        "model_RNN.compile(loss='mean_squared_error', optimizer='adam',metrics=['mse'])\n",
        "history_RNN = model_RNN.fit(trainX, trainY, epochs=epochs, batch_size=batch_size, verbose=0,validation_split=0.7)\n",
        "model_RNN.save('model_RNN')\n",
        "time_RNN = time.time()"
      ]
    },
    {
      "cell_type": "code",
      "execution_count": 14,
      "metadata": {
        "colab": {
          "base_uri": "https://localhost:8080/"
        },
        "id": "wiNPWddbu7R3",
        "outputId": "5f5fdc1b-cf6f-4dcd-9a4f-561a4d888186"
      },
      "outputs": [
        {
          "output_type": "stream",
          "name": "stdout",
          "text": [
            "Epoch 1/50\n",
            "614/614 [==============================] - 301s 482ms/step - loss: 0.0051 - mse: 0.0051 - val_loss: 4.7456e-04 - val_mse: 4.7456e-04\n",
            "Epoch 2/50\n",
            "614/614 [==============================] - 298s 486ms/step - loss: 1.4402e-04 - mse: 1.4402e-04 - val_loss: 0.0012 - val_mse: 0.0012\n",
            "Epoch 3/50\n",
            "614/614 [==============================] - 300s 488ms/step - loss: 1.4386e-04 - mse: 1.4386e-04 - val_loss: 0.0012 - val_mse: 0.0012\n",
            "Epoch 4/50\n",
            "614/614 [==============================] - 298s 485ms/step - loss: 1.3610e-04 - mse: 1.3610e-04 - val_loss: 0.0018 - val_mse: 0.0018\n",
            "Epoch 5/50\n",
            "614/614 [==============================] - 298s 486ms/step - loss: 1.5006e-04 - mse: 1.5006e-04 - val_loss: 0.0020 - val_mse: 0.0020\n",
            "Epoch 6/50\n",
            "614/614 [==============================] - 294s 480ms/step - loss: 1.1058e-04 - mse: 1.1058e-04 - val_loss: 0.0021 - val_mse: 0.0021\n",
            "Epoch 7/50\n",
            "614/614 [==============================] - 297s 484ms/step - loss: 1.1205e-04 - mse: 1.1205e-04 - val_loss: 0.0024 - val_mse: 0.0024\n",
            "Epoch 8/50\n",
            "614/614 [==============================] - 299s 487ms/step - loss: 1.1482e-04 - mse: 1.1482e-04 - val_loss: 0.0020 - val_mse: 0.0020\n",
            "Epoch 9/50\n",
            "614/614 [==============================] - 299s 487ms/step - loss: 1.0015e-04 - mse: 1.0015e-04 - val_loss: 0.0020 - val_mse: 0.0020\n",
            "Epoch 10/50\n",
            "614/614 [==============================] - 299s 488ms/step - loss: 8.7656e-05 - mse: 8.7656e-05 - val_loss: 0.0017 - val_mse: 0.0017\n",
            "Epoch 11/50\n",
            "614/614 [==============================] - 302s 492ms/step - loss: 8.6101e-05 - mse: 8.6101e-05 - val_loss: 0.0017 - val_mse: 0.0017\n",
            "Epoch 12/50\n",
            "614/614 [==============================] - 301s 490ms/step - loss: 7.8916e-05 - mse: 7.8916e-05 - val_loss: 0.0018 - val_mse: 0.0018\n",
            "Epoch 13/50\n",
            "614/614 [==============================] - 300s 489ms/step - loss: 7.5070e-05 - mse: 7.5070e-05 - val_loss: 0.0022 - val_mse: 0.0022\n",
            "Epoch 14/50\n",
            "614/614 [==============================] - 299s 488ms/step - loss: 7.6818e-05 - mse: 7.6818e-05 - val_loss: 0.0025 - val_mse: 0.0025\n",
            "Epoch 15/50\n",
            "614/614 [==============================] - 300s 489ms/step - loss: 6.8564e-05 - mse: 6.8564e-05 - val_loss: 0.0028 - val_mse: 0.0028\n",
            "Epoch 16/50\n",
            "614/614 [==============================] - 300s 489ms/step - loss: 6.4906e-05 - mse: 6.4906e-05 - val_loss: 0.0031 - val_mse: 0.0031\n",
            "Epoch 17/50\n",
            "614/614 [==============================] - 300s 488ms/step - loss: 6.4930e-05 - mse: 6.4930e-05 - val_loss: 0.0036 - val_mse: 0.0036\n",
            "Epoch 18/50\n",
            "614/614 [==============================] - 295s 481ms/step - loss: 6.3122e-05 - mse: 6.3122e-05 - val_loss: 0.0037 - val_mse: 0.0037\n",
            "Epoch 19/50\n",
            "614/614 [==============================] - 295s 480ms/step - loss: 5.4704e-05 - mse: 5.4704e-05 - val_loss: 0.0039 - val_mse: 0.0039\n",
            "Epoch 20/50\n",
            "614/614 [==============================] - 296s 482ms/step - loss: 5.7133e-05 - mse: 5.7133e-05 - val_loss: 0.0039 - val_mse: 0.0039\n",
            "Epoch 21/50\n",
            "614/614 [==============================] - 298s 485ms/step - loss: 5.3031e-05 - mse: 5.3031e-05 - val_loss: 0.0035 - val_mse: 0.0035\n",
            "Epoch 22/50\n",
            "614/614 [==============================] - 301s 491ms/step - loss: 5.2912e-05 - mse: 5.2912e-05 - val_loss: 0.0035 - val_mse: 0.0035\n",
            "Epoch 23/50\n",
            "614/614 [==============================] - 302s 492ms/step - loss: 5.3478e-05 - mse: 5.3478e-05 - val_loss: 0.0032 - val_mse: 0.0032\n",
            "Epoch 24/50\n",
            "614/614 [==============================] - 301s 491ms/step - loss: 4.4382e-05 - mse: 4.4382e-05 - val_loss: 0.0033 - val_mse: 0.0033\n",
            "Epoch 25/50\n",
            "614/614 [==============================] - 301s 491ms/step - loss: 5.0982e-05 - mse: 5.0982e-05 - val_loss: 0.0027 - val_mse: 0.0027\n",
            "Epoch 26/50\n",
            "614/614 [==============================] - 303s 494ms/step - loss: 4.7383e-05 - mse: 4.7383e-05 - val_loss: 0.0026 - val_mse: 0.0026\n",
            "Epoch 27/50\n",
            "614/614 [==============================] - 298s 485ms/step - loss: 4.1937e-05 - mse: 4.1937e-05 - val_loss: 0.0026 - val_mse: 0.0026\n",
            "Epoch 28/50\n",
            "614/614 [==============================] - 300s 489ms/step - loss: 4.2557e-05 - mse: 4.2557e-05 - val_loss: 0.0022 - val_mse: 0.0022\n",
            "Epoch 29/50\n",
            "614/614 [==============================] - 300s 488ms/step - loss: 4.1917e-05 - mse: 4.1917e-05 - val_loss: 0.0021 - val_mse: 0.0021\n",
            "Epoch 30/50\n",
            "614/614 [==============================] - 301s 490ms/step - loss: 4.2903e-05 - mse: 4.2903e-05 - val_loss: 0.0019 - val_mse: 0.0019\n",
            "Epoch 31/50\n",
            "614/614 [==============================] - 296s 482ms/step - loss: 3.9811e-05 - mse: 3.9811e-05 - val_loss: 0.0018 - val_mse: 0.0018\n",
            "Epoch 32/50\n",
            "614/614 [==============================] - 299s 487ms/step - loss: 4.1113e-05 - mse: 4.1113e-05 - val_loss: 0.0016 - val_mse: 0.0016\n",
            "Epoch 33/50\n",
            "614/614 [==============================] - 298s 486ms/step - loss: 3.8151e-05 - mse: 3.8151e-05 - val_loss: 0.0014 - val_mse: 0.0014\n",
            "Epoch 34/50\n",
            "614/614 [==============================] - 298s 485ms/step - loss: 3.7191e-05 - mse: 3.7191e-05 - val_loss: 0.0013 - val_mse: 0.0013\n",
            "Epoch 35/50\n",
            "614/614 [==============================] - 298s 486ms/step - loss: 3.8293e-05 - mse: 3.8293e-05 - val_loss: 0.0013 - val_mse: 0.0013\n",
            "Epoch 36/50\n",
            "614/614 [==============================] - 299s 488ms/step - loss: 3.8426e-05 - mse: 3.8426e-05 - val_loss: 0.0011 - val_mse: 0.0011\n",
            "Epoch 37/50\n",
            "614/614 [==============================] - 298s 486ms/step - loss: 3.7351e-05 - mse: 3.7351e-05 - val_loss: 9.5304e-04 - val_mse: 9.5304e-04\n",
            "Epoch 38/50\n",
            "614/614 [==============================] - 298s 486ms/step - loss: 3.4578e-05 - mse: 3.4578e-05 - val_loss: 9.8930e-04 - val_mse: 9.8930e-04\n",
            "Epoch 39/50\n",
            "614/614 [==============================] - 294s 479ms/step - loss: 3.4040e-05 - mse: 3.4040e-05 - val_loss: 9.2712e-04 - val_mse: 9.2712e-04\n",
            "Epoch 40/50\n",
            "614/614 [==============================] - 295s 480ms/step - loss: 3.5192e-05 - mse: 3.5192e-05 - val_loss: 8.7290e-04 - val_mse: 8.7290e-04\n",
            "Epoch 41/50\n",
            "614/614 [==============================] - 297s 484ms/step - loss: 3.4706e-05 - mse: 3.4706e-05 - val_loss: 6.6517e-04 - val_mse: 6.6517e-04\n",
            "Epoch 42/50\n",
            "614/614 [==============================] - 296s 482ms/step - loss: 3.0948e-05 - mse: 3.0948e-05 - val_loss: 6.9358e-04 - val_mse: 6.9358e-04\n",
            "Epoch 43/50\n",
            "614/614 [==============================] - 296s 482ms/step - loss: 3.6187e-05 - mse: 3.6187e-05 - val_loss: 5.7696e-04 - val_mse: 5.7696e-04\n",
            "Epoch 44/50\n",
            "614/614 [==============================] - 297s 484ms/step - loss: 3.1499e-05 - mse: 3.1499e-05 - val_loss: 5.2107e-04 - val_mse: 5.2107e-04\n",
            "Epoch 45/50\n",
            "614/614 [==============================] - 297s 485ms/step - loss: 3.1735e-05 - mse: 3.1735e-05 - val_loss: 4.4348e-04 - val_mse: 4.4348e-04\n",
            "Epoch 46/50\n",
            "614/614 [==============================] - 295s 481ms/step - loss: 3.0815e-05 - mse: 3.0815e-05 - val_loss: 4.2969e-04 - val_mse: 4.2969e-04\n",
            "Epoch 47/50\n",
            "614/614 [==============================] - 298s 485ms/step - loss: 2.9184e-05 - mse: 2.9184e-05 - val_loss: 3.9234e-04 - val_mse: 3.9234e-04\n",
            "Epoch 48/50\n",
            "614/614 [==============================] - 300s 488ms/step - loss: 3.0886e-05 - mse: 3.0886e-05 - val_loss: 3.7955e-04 - val_mse: 3.7955e-04\n",
            "Epoch 49/50\n",
            "614/614 [==============================] - 296s 482ms/step - loss: 2.7894e-05 - mse: 2.7894e-05 - val_loss: 3.3490e-04 - val_mse: 3.3490e-04\n",
            "Epoch 50/50\n",
            "614/614 [==============================] - 294s 479ms/step - loss: 3.0383e-05 - mse: 3.0383e-05 - val_loss: 3.0312e-04 - val_mse: 3.0312e-04\n"
          ]
        },
        {
          "output_type": "stream",
          "name": "stderr",
          "text": [
            "WARNING:absl:Found untraced functions such as lstm_cell_layer_call_fn, lstm_cell_layer_call_and_return_conditional_losses, lstm_cell_1_layer_call_fn, lstm_cell_1_layer_call_and_return_conditional_losses while saving (showing 4 of 4). These functions will not be directly callable after loading.\n",
            "WARNING:absl:<keras.layers.recurrent.LSTMCell object at 0x7f29ca1e56d0> has the same name 'LSTMCell' as a built-in Keras object. Consider renaming <class 'keras.layers.recurrent.LSTMCell'> to avoid naming conflicts when loading with `tf.keras.models.load_model`. If renaming is not possible, pass the object in the `custom_objects` parameter of the load function.\n",
            "WARNING:absl:<keras.layers.recurrent.LSTMCell object at 0x7f29ca5902d0> has the same name 'LSTMCell' as a built-in Keras object. Consider renaming <class 'keras.layers.recurrent.LSTMCell'> to avoid naming conflicts when loading with `tf.keras.models.load_model`. If renaming is not possible, pass the object in the `custom_objects` parameter of the load function.\n"
          ]
        },
        {
          "output_type": "stream",
          "name": "stdout",
          "text": [
            "  adding: content/model_LSTM/ (stored 0%)\n",
            "  adding: content/model_LSTM/assets/ (stored 0%)\n",
            "  adding: content/model_LSTM/keras_metadata.pb (deflated 90%)\n",
            "  adding: content/model_LSTM/variables/ (stored 0%)\n",
            "  adding: content/model_LSTM/variables/variables.data-00000-of-00001 (deflated 44%)\n",
            "  adding: content/model_LSTM/variables/variables.index (deflated 64%)\n",
            "  adding: content/model_LSTM/saved_model.pb (deflated 90%)\n"
          ]
        }
      ],
      "source": [
        "star_LSTM = time.time()\n",
        "model_LSTM = Sequential()\n",
        "model_LSTM.add(LSTM(n_1, return_sequences=True,input_shape=(1,look_back)))\n",
        "#model_LSTM.add(LSTM(n_2, return_sequences=True))\n",
        "#model_LSTM.add(LSTM(n_3, return_sequences=True))\n",
        "model_LSTM.add(LSTM(n_4))\n",
        "model_LSTM.add(Dense(1))\n",
        "model_LSTM.compile(loss='mean_squared_error', optimizer='adam',metrics=['mse'])\n",
        "history_LSTM = model_LSTM.fit(trainX, trainY, epochs=epochs, batch_size=batch_size, verbose=1,validation_split=0.7)\n",
        "time_LSTM = time.time()\n",
        "model_LSTM.save('model_LSTM')\n",
        "time_LSTM = time.time()\n",
        "!zip -r /content/drive/MyDrive/Kaggle/model_LSTM.zip /content/model_LSTM/"
      ]
    },
    {
      "cell_type": "code",
      "execution_count": 16,
      "metadata": {
        "id": "bYw09hFMCub7",
        "colab": {
          "base_uri": "https://localhost:8080/"
        },
        "outputId": "978c7ef3-adf3-4b65-bf0d-c725ad894b03"
      },
      "outputs": [
        {
          "output_type": "stream",
          "name": "stdout",
          "text": [
            "Epoch 1/50\n",
            "614/614 [==============================] - 258s 403ms/step - loss: 0.0424 - mse: 0.0424 - val_loss: 0.0593 - val_mse: 0.0593\n",
            "Epoch 2/50\n",
            "614/614 [==============================] - 235s 383ms/step - loss: 1.7088e-04 - mse: 1.7088e-04 - val_loss: 0.0523 - val_mse: 0.0523\n",
            "Epoch 3/50\n",
            "614/614 [==============================] - 234s 382ms/step - loss: 1.3125e-04 - mse: 1.3125e-04 - val_loss: 0.0442 - val_mse: 0.0442\n",
            "Epoch 4/50\n",
            "614/614 [==============================] - 238s 389ms/step - loss: 1.2092e-04 - mse: 1.2092e-04 - val_loss: 0.0365 - val_mse: 0.0365\n",
            "Epoch 5/50\n",
            "614/614 [==============================] - 235s 382ms/step - loss: 1.1067e-04 - mse: 1.1067e-04 - val_loss: 0.0297 - val_mse: 0.0297\n",
            "Epoch 6/50\n",
            "614/614 [==============================] - 238s 387ms/step - loss: 1.0201e-04 - mse: 1.0201e-04 - val_loss: 0.0234 - val_mse: 0.0234\n",
            "Epoch 7/50\n",
            "614/614 [==============================] - 238s 387ms/step - loss: 9.5334e-05 - mse: 9.5334e-05 - val_loss: 0.0210 - val_mse: 0.0210\n",
            "Epoch 8/50\n",
            "614/614 [==============================] - 235s 384ms/step - loss: 1.0237e-04 - mse: 1.0237e-04 - val_loss: 0.0175 - val_mse: 0.0175\n",
            "Epoch 9/50\n",
            "614/614 [==============================] - 239s 390ms/step - loss: 9.6260e-05 - mse: 9.6260e-05 - val_loss: 0.0151 - val_mse: 0.0151\n",
            "Epoch 10/50\n",
            "614/614 [==============================] - 239s 389ms/step - loss: 8.5040e-05 - mse: 8.5040e-05 - val_loss: 0.0123 - val_mse: 0.0123\n",
            "Epoch 11/50\n",
            "614/614 [==============================] - 236s 384ms/step - loss: 8.4562e-05 - mse: 8.4562e-05 - val_loss: 0.0099 - val_mse: 0.0099\n",
            "Epoch 12/50\n",
            "614/614 [==============================] - 234s 382ms/step - loss: 7.8676e-05 - mse: 7.8676e-05 - val_loss: 0.0087 - val_mse: 0.0087\n",
            "Epoch 13/50\n",
            "614/614 [==============================] - 236s 384ms/step - loss: 7.8896e-05 - mse: 7.8896e-05 - val_loss: 0.0069 - val_mse: 0.0069\n",
            "Epoch 14/50\n",
            "614/614 [==============================] - 238s 388ms/step - loss: 7.5944e-05 - mse: 7.5944e-05 - val_loss: 0.0054 - val_mse: 0.0054\n",
            "Epoch 15/50\n",
            "614/614 [==============================] - 234s 381ms/step - loss: 7.7036e-05 - mse: 7.7036e-05 - val_loss: 0.0043 - val_mse: 0.0043\n",
            "Epoch 16/50\n",
            "614/614 [==============================] - 237s 387ms/step - loss: 6.7492e-05 - mse: 6.7492e-05 - val_loss: 0.0043 - val_mse: 0.0043\n",
            "Epoch 17/50\n",
            "614/614 [==============================] - 234s 381ms/step - loss: 6.9925e-05 - mse: 6.9925e-05 - val_loss: 0.0043 - val_mse: 0.0043\n",
            "Epoch 18/50\n",
            "614/614 [==============================] - 237s 387ms/step - loss: 7.0632e-05 - mse: 7.0632e-05 - val_loss: 0.0038 - val_mse: 0.0038\n",
            "Epoch 19/50\n",
            "614/614 [==============================] - 239s 389ms/step - loss: 6.0722e-05 - mse: 6.0722e-05 - val_loss: 0.0040 - val_mse: 0.0040\n",
            "Epoch 20/50\n",
            "614/614 [==============================] - 234s 382ms/step - loss: 6.1163e-05 - mse: 6.1163e-05 - val_loss: 0.0040 - val_mse: 0.0040\n",
            "Epoch 21/50\n",
            "614/614 [==============================] - 237s 386ms/step - loss: 6.3232e-05 - mse: 6.3232e-05 - val_loss: 0.0034 - val_mse: 0.0034\n",
            "Epoch 22/50\n",
            "614/614 [==============================] - 234s 381ms/step - loss: 5.5702e-05 - mse: 5.5702e-05 - val_loss: 0.0026 - val_mse: 0.0026\n",
            "Epoch 23/50\n",
            "614/614 [==============================] - 236s 385ms/step - loss: 5.7024e-05 - mse: 5.7024e-05 - val_loss: 0.0023 - val_mse: 0.0023\n",
            "Epoch 24/50\n",
            "614/614 [==============================] - 233s 379ms/step - loss: 5.1269e-05 - mse: 5.1269e-05 - val_loss: 0.0016 - val_mse: 0.0016\n",
            "Epoch 25/50\n",
            "614/614 [==============================] - 234s 382ms/step - loss: 5.7603e-05 - mse: 5.7603e-05 - val_loss: 7.0116e-04 - val_mse: 7.0116e-04\n",
            "Epoch 26/50\n",
            "614/614 [==============================] - 236s 384ms/step - loss: 5.1747e-05 - mse: 5.1747e-05 - val_loss: 4.3480e-04 - val_mse: 4.3480e-04\n",
            "Epoch 27/50\n",
            "614/614 [==============================] - 233s 379ms/step - loss: 4.8543e-05 - mse: 4.8543e-05 - val_loss: 3.7717e-04 - val_mse: 3.7717e-04\n",
            "Epoch 28/50\n",
            "614/614 [==============================] - 235s 382ms/step - loss: 4.7601e-05 - mse: 4.7601e-05 - val_loss: 8.8924e-04 - val_mse: 8.8924e-04\n",
            "Epoch 29/50\n",
            "614/614 [==============================] - 231s 377ms/step - loss: 4.5558e-05 - mse: 4.5558e-05 - val_loss: 0.0017 - val_mse: 0.0017\n",
            "Epoch 30/50\n",
            "614/614 [==============================] - 233s 380ms/step - loss: 4.8051e-05 - mse: 4.8051e-05 - val_loss: 0.0029 - val_mse: 0.0029\n",
            "Epoch 31/50\n",
            "614/614 [==============================] - 231s 376ms/step - loss: 4.3361e-05 - mse: 4.3361e-05 - val_loss: 0.0052 - val_mse: 0.0052\n",
            "Epoch 32/50\n",
            "614/614 [==============================] - 234s 381ms/step - loss: 4.7253e-05 - mse: 4.7253e-05 - val_loss: 0.0049 - val_mse: 0.0049\n",
            "Epoch 33/50\n",
            "614/614 [==============================] - 232s 379ms/step - loss: 4.3266e-05 - mse: 4.3266e-05 - val_loss: 0.0070 - val_mse: 0.0070\n",
            "Epoch 34/50\n",
            "614/614 [==============================] - 235s 383ms/step - loss: 3.9739e-05 - mse: 3.9739e-05 - val_loss: 0.0086 - val_mse: 0.0086\n",
            "Epoch 35/50\n",
            "614/614 [==============================] - 237s 386ms/step - loss: 4.3350e-05 - mse: 4.3350e-05 - val_loss: 0.0088 - val_mse: 0.0088\n",
            "Epoch 36/50\n",
            "614/614 [==============================] - 235s 382ms/step - loss: 4.0691e-05 - mse: 4.0691e-05 - val_loss: 0.0101 - val_mse: 0.0101\n",
            "Epoch 37/50\n",
            "614/614 [==============================] - 237s 387ms/step - loss: 3.9822e-05 - mse: 3.9822e-05 - val_loss: 0.0102 - val_mse: 0.0102\n",
            "Epoch 38/50\n",
            "614/614 [==============================] - 235s 383ms/step - loss: 3.9494e-05 - mse: 3.9494e-05 - val_loss: 0.0112 - val_mse: 0.0112\n",
            "Epoch 39/50\n",
            "614/614 [==============================] - 236s 385ms/step - loss: 3.6388e-05 - mse: 3.6388e-05 - val_loss: 0.0115 - val_mse: 0.0115\n",
            "Epoch 40/50\n",
            "614/614 [==============================] - 233s 379ms/step - loss: 3.5928e-05 - mse: 3.5928e-05 - val_loss: 0.0110 - val_mse: 0.0110\n",
            "Epoch 41/50\n",
            "614/614 [==============================] - 239s 389ms/step - loss: 4.0597e-05 - mse: 4.0597e-05 - val_loss: 0.0126 - val_mse: 0.0126\n",
            "Epoch 42/50\n",
            "614/614 [==============================] - 237s 387ms/step - loss: 3.4943e-05 - mse: 3.4943e-05 - val_loss: 0.0128 - val_mse: 0.0128\n",
            "Epoch 43/50\n",
            "614/614 [==============================] - 231s 376ms/step - loss: 3.7178e-05 - mse: 3.7178e-05 - val_loss: 0.0139 - val_mse: 0.0139\n",
            "Epoch 44/50\n",
            "614/614 [==============================] - 232s 379ms/step - loss: 3.4309e-05 - mse: 3.4309e-05 - val_loss: 0.0136 - val_mse: 0.0136\n",
            "Epoch 45/50\n",
            "614/614 [==============================] - 233s 379ms/step - loss: 3.5379e-05 - mse: 3.5379e-05 - val_loss: 0.0137 - val_mse: 0.0137\n",
            "Epoch 46/50\n",
            "614/614 [==============================] - 232s 379ms/step - loss: 3.4629e-05 - mse: 3.4629e-05 - val_loss: 0.0137 - val_mse: 0.0137\n",
            "Epoch 47/50\n",
            "614/614 [==============================] - 232s 378ms/step - loss: 3.2397e-05 - mse: 3.2397e-05 - val_loss: 0.0148 - val_mse: 0.0148\n",
            "Epoch 48/50\n",
            "614/614 [==============================] - 234s 381ms/step - loss: 3.3176e-05 - mse: 3.3176e-05 - val_loss: 0.0139 - val_mse: 0.0139\n",
            "Epoch 49/50\n",
            "614/614 [==============================] - 231s 376ms/step - loss: 3.0714e-05 - mse: 3.0714e-05 - val_loss: 0.0146 - val_mse: 0.0146\n",
            "Epoch 50/50\n",
            "614/614 [==============================] - 237s 386ms/step - loss: 3.4364e-05 - mse: 3.4364e-05 - val_loss: 0.0140 - val_mse: 0.0140\n"
          ]
        },
        {
          "output_type": "stream",
          "name": "stderr",
          "text": [
            "WARNING:absl:Found untraced functions such as gru_cell_8_layer_call_fn, gru_cell_8_layer_call_and_return_conditional_losses, gru_cell_9_layer_call_fn, gru_cell_9_layer_call_and_return_conditional_losses while saving (showing 4 of 4). These functions will not be directly callable after loading.\n",
            "WARNING:absl:<keras.layers.recurrent.GRUCell object at 0x7f6756dcf150> has the same name 'GRUCell' as a built-in Keras object. Consider renaming <class 'keras.layers.recurrent.GRUCell'> to avoid naming conflicts when loading with `tf.keras.models.load_model`. If renaming is not possible, pass the object in the `custom_objects` parameter of the load function.\n",
            "WARNING:absl:<keras.layers.recurrent.GRUCell object at 0x7f6756dd90d0> has the same name 'GRUCell' as a built-in Keras object. Consider renaming <class 'keras.layers.recurrent.GRUCell'> to avoid naming conflicts when loading with `tf.keras.models.load_model`. If renaming is not possible, pass the object in the `custom_objects` parameter of the load function.\n"
          ]
        },
        {
          "output_type": "stream",
          "name": "stdout",
          "text": [
            "  adding: content/model_GRU/ (stored 0%)\n",
            "  adding: content/model_GRU/assets/ (stored 0%)\n",
            "  adding: content/model_GRU/keras_metadata.pb (deflated 90%)\n",
            "  adding: content/model_GRU/variables/ (stored 0%)\n",
            "  adding: content/model_GRU/variables/variables.data-00000-of-00001 (deflated 36%)\n",
            "  adding: content/model_GRU/variables/variables.index (deflated 64%)\n",
            "  adding: content/model_GRU/saved_model.pb (deflated 90%)\n"
          ]
        }
      ],
      "source": [
        "star_GRU = time.time()\n",
        "model_GRU = Sequential()\n",
        "model_GRU.add(GRU(n_1, return_sequences=True,input_shape=(1,look_back)))\n",
        "#model_GRU.add(GRU(n_2, return_sequences=True))\n",
        "#model_GRU.add(GRU(n_3, return_sequences=True))\n",
        "model_GRU.add(GRU(n_4))\n",
        "model_GRU.add(Dense(1))\n",
        "model_GRU.compile(loss='mean_squared_error', optimizer='adam',metrics=['mse'])\n",
        "history_GRU = model_GRU.fit(trainX, trainY, epochs=epochs, batch_size=batch_size, verbose=1,validation_split=0.7)\n",
        "time_GRU = time.time()\n",
        "model_GRU.save('model_GRU')\n",
        "!zip -r /content/drive/MyDrive/Kaggle/model_GRU.zip /content/model_GRU/"
      ]
    },
    {
      "cell_type": "code",
      "source": [
        "history = []\n",
        "for i in range(len(model)): history.append(model[i].history)"
      ],
      "metadata": {
        "id": "de00Yl1gGMK3"
      },
      "execution_count": 32,
      "outputs": []
    },
    {
      "cell_type": "code",
      "source": [
        "history"
      ],
      "metadata": {
        "id": "IuU8jiX3GmS_",
        "outputId": "b89caae0-118c-4370-d84c-aedfacff8e8f",
        "colab": {
          "base_uri": "https://localhost:8080/"
        }
      },
      "execution_count": 33,
      "outputs": [
        {
          "output_type": "execute_result",
          "data": {
            "text/plain": [
              "[None, None, None]"
            ]
          },
          "metadata": {},
          "execution_count": 33
        }
      ]
    },
    {
      "cell_type": "code",
      "execution_count": 24,
      "metadata": {
        "id": "W7WpsF11EPvh"
      },
      "outputs": [],
      "source": [
        "  #Alocationg all the models in vectors!\n",
        "\n",
        "model = [model_RNN,model_LSTM,model_GRU]\n",
        "history = [history_RNN,history_LSTM,history_GRU]\n",
        "model_name = ['Simple RNN','LSTM','GRU']\n",
        "color = ['C0','C1','C2']\n",
        "\n",
        "\n",
        "#Allocating metrics\n",
        "loss, mse, val_loss =[],[],[]\n",
        "for i in range(len(model)):\n",
        "  loss.append(history[i].history['loss'])\n",
        "  mse.append(history[i].history['mse'])\n",
        "  val_loss.append(history[i].history['val_loss'])"
      ]
    },
    {
      "cell_type": "code",
      "execution_count": null,
      "metadata": {
        "id": "FR41MxCB37-U"
      },
      "outputs": [],
      "source": [
        "model[1].summary()"
      ]
    },
    {
      "cell_type": "code",
      "execution_count": null,
      "metadata": {
        "id": "MoCEiHd_jEUG"
      },
      "outputs": [],
      "source": [
        "Time =[round((time_RNN - star_RNN)/60,5), round((time_LSTM - star_LSTM)/60,5), round((time_GRU - star_GRU)/60,5)]\n",
        "for i in range (len(Time)):  print(model_name[i],Time[i],'minutus') if Time[i] < 100 else print(model_name[i],round(Time[i]/60,4),'hours')"
      ]
    },
    {
      "cell_type": "markdown",
      "metadata": {
        "id": "Tqf4WTQ8OEll"
      },
      "source": [
        "# Results"
      ]
    },
    {
      "cell_type": "code",
      "execution_count": null,
      "metadata": {
        "id": "hzZmfN4zuk8i"
      },
      "outputs": [],
      "source": [
        "epochs = np.arange(0,len(loss[0]))\n",
        "plt.figure(figsize=(20, 4),dpi=100)\n",
        "\n",
        "plt.subplot(1,3,1)\n",
        "for i in range(len(model)): plt.plot(epochs,loss[i], label=model_name[i],  color=color[i], linestyle='-')\n",
        "plt.xlabel('Epochs')\n",
        "plt.ylabel('Score')\n",
        "plt.legend()\n",
        "plt.title('Loss')\n",
        "#plt.ylim(-0.01,0.2)\n",
        "plt.grid(alpha=0.2)\n",
        "\n",
        "plt.subplot(1,3,2)\n",
        "for i in range(len(model)): plt.plot(epochs,val_loss[i], label=model_name[i],  color=color[i], linestyle='-')\n",
        "plt.xlabel('Epochs')\n",
        "plt.ylabel('Score')\n",
        "plt.legend()\n",
        "plt.title('Validation Loss')\n",
        "#plt.ylim(-0.01,0.13)\n",
        "plt.grid(alpha=0.2)\n",
        "\n",
        "\n",
        "plt.subplot(1,3,3)\n",
        "for i in range(len(model)): plt.plot(epochs,mse[i], label=model_name[i],  color=color[i], linestyle='-')\n",
        "plt.xlabel('Epochs')\n",
        "plt.ylabel('MSE')\n",
        "plt.legend()\n",
        "plt.title(\"Mean Squere Error\")\n",
        "#plt.ylim(-0.01,0.2)\n",
        "plt.grid(alpha=0.2)\n",
        "\n",
        "plt.show()"
      ]
    },
    {
      "cell_type": "code",
      "execution_count": null,
      "metadata": {
        "id": "VwuwufbcKXGx"
      },
      "outputs": [],
      "source": [
        "'''\n",
        "Aqui iremos alocar a previsão do treinamento, to teste e de ambos em vetores. \n",
        "Para o caso dos valores de test eles precisam estar na posição em que o treinamento acaba para que possamos comparar no mesmo dataset\n",
        "'''\n",
        "\n",
        "# make predictions\n",
        "trainPredict, testPredict, trainPredictPlot, testPredictPlot, model_data = [],[],[],[],[]\n",
        "\n",
        "for i in range(len(model)):\n",
        "  #Train\n",
        "  trainPredict.append(model[i].predict(trainX))\n",
        "  a = np.empty_like(dataset)\n",
        "  a[:, :] = np.nan\n",
        "  a[look_back:len(trainPredict[i])+look_back, :] = trainPredict[i]\n",
        "  trainPredictPlot.append(a)\n",
        "  #Teste\n",
        "  testPredict.append(model[i].predict(testX))\n",
        "  a = np.empty_like(dataset)\n",
        "  a[:, :] = np.nan\n",
        "  a[len(trainPredict[i])+(look_back*2)+1:len(dataset)-1, :] = testPredict[i]\n",
        "  testPredictPlot.append(a)\n",
        "  #All\n",
        "  a =  np.empty_like(dataset) #creating a empyt vector\n",
        "  a[look_back:len(trainPredict[i])+look_back, :] = trainPredict[i] #alocating the the traint data generatead by the model\n",
        "  a[len(trainPredict[i])+(look_back*2)+1:len(dataset)-1, :] = testPredict[i] #alocating the the test data generatead by the model\n",
        "  a = (np.reshape(a,(len(a))))\n",
        "  a[:look_back] = np.nan\n",
        "  #model_data = model_data[look_back:]\n",
        "  # Killing divergences\n",
        "  for i in range(len(a)):\n",
        "      if a[i] > 1: a[i] = np.nan\n",
        "      #if a[i] < 0.0001: a[i] = 0\n",
        "  model_data.append(a)   \n",
        "del a"
      ]
    },
    {
      "cell_type": "code",
      "execution_count": null,
      "metadata": {
        "id": "SFDZRFBrhd-z"
      },
      "outputs": [],
      "source": [
        "i=2\n",
        "if   beta == '0.0': df_color = 'black'\n",
        "elif beta == '1.0': df_color = 'magenta'\n",
        "else                     : df_color = 'red'\n",
        "\n",
        "grossura = 0.5 if beta== '0.0' else 1\n",
        "\n",
        "plt.figure(figsize = (20,4*len(model)+4), dpi=80)\n",
        "for i in range(len(model)):\n",
        "  plt.subplot(len(model),1,(i+1))\n",
        "  plt.plot(dataset,label=\"Original Data Set\",color = df_color,linewidth=grossura)\n",
        "  plt.plot(trainPredictPlot[i],label='Train',color='C0')\n",
        "  plt.plot(testPredictPlot[i],label='Predict',color='C1')\n",
        "  plt.title(str(model_name[i])+' model prediction for β = '+str(beta))\n",
        "  plt.ylabel('Amplitude(t)')\n",
        "  plt.xlabel('Samples (time-steps)')\n",
        "  plt.legend()\n",
        "  plt.grid(alpha=0.5)\n",
        "plt.show()"
      ]
    },
    {
      "cell_type": "markdown",
      "metadata": {
        "id": "ATUE9LBkMSIw"
      },
      "source": [
        "#Predict \n",
        "\n"
      ]
    },
    {
      "cell_type": "code",
      "execution_count": null,
      "metadata": {
        "id": "PdLCmM3pMUrh"
      },
      "outputs": [],
      "source": [
        "# demonstrate prediction for next 10 days\n",
        "\n",
        "def autoGen(x_input,output_size=10,n_steps=look_back,n_features=1,model_type=model[0]):   \n",
        "  '''\n",
        "  This function will auto generate the next predict data. \n",
        "  The Variables Are:\n",
        "  x_input: The incial data\n",
        "  output_size: the size of the output série\n",
        "  n_stpes: How many points they use to predeic \"The lookback\"\n",
        "  n_features: How many points they will predict\n",
        "  model_type: The type of useble model\n",
        "  '''\n",
        "\n",
        "  model = model_type\n",
        "\n",
        "  #x_input = np.array([187, 196, 210])\n",
        "  temp_input=(x_input)\n",
        "  lst_output=[]\n",
        "  i=0\n",
        "  while(i<output_size):\n",
        "  \n",
        "      if(len(temp_input)>3):\n",
        "          x_input=np.array(temp_input[1:])\n",
        "          #print(\"{} day input {}\".format(i,x_input))\n",
        "          #print(x_input)\n",
        "          #x_input = x_input.reshape((1, n_steps, n_features))\n",
        "          #x_input = np.reshape(x_input,(n_steps, n_features,1))\n",
        "          x_input = np.reshape(x_input,(len(x_input), n_features,1))\n",
        "          #x_input = np.reshape(x_input,(x_input.shape[0], x_input.shape[1],1))\n",
        "          #print(x_input)\n",
        "          yhat = model.predict(x_input, verbose=0)\n",
        "          #print(\"{} day output {}\".format(i,yhat))\n",
        "          temp_input.append(yhat[0][0])\n",
        "          temp_input=temp_input[1:]\n",
        "          #print(temp_input)\n",
        "          lst_output.append(yhat[0][0])\n",
        "          i=i+1\n",
        "      else:\n",
        "          #x_input = x_input.reshape((1, n_steps, n_features))\n",
        "          x_input = np.reshape(x_input,(n_steps, n_features,1))\n",
        "          yhat = model.predict(x_input, verbose=0)\n",
        "          print(yhat[0])\n",
        "          temp_input.append(yhat[0][0])\n",
        "          lst_output.append(yhat[0][0])\n",
        "          i=i+1\n",
        "\n",
        "  return lst_output    \n",
        "  #print(lst_output)"
      ]
    },
    {
      "cell_type": "code",
      "execution_count": null,
      "metadata": {
        "id": "4iOr7MgdREmE"
      },
      "outputs": [],
      "source": [
        "# teste = dataframe.Serie.values[-look_back:] "
      ]
    },
    {
      "cell_type": "code",
      "execution_count": null,
      "metadata": {
        "id": "4yZX91mgRV9P"
      },
      "outputs": [],
      "source": [
        "# # autoGen(x_input,output_size=10,n_steps=look_back,n_features=1,model_type=model[0]):   \n",
        "# autoGen(teste,10,999,model_type=model[0])"
      ]
    },
    {
      "cell_type": "markdown",
      "metadata": {
        "id": "-i5jXZMErRKG"
      },
      "source": [
        "# SpecPlus\n",
        "\n",
        "Geração do Espctro de Potência de uma série temporal"
      ]
    },
    {
      "cell_type": "code",
      "execution_count": null,
      "metadata": {
        "id": "6eBc3n2Tge0n"
      },
      "outputs": [],
      "source": [
        "\n",
        "def specplus(nomeArquivo,INICIO=10,FIM=6300, textoTituloPSD = r'Original Time Series - ',corPSD2 =  'navy'):\n",
        "    #FIM = 2**int(np.log2(len(trainPredict[i]))-1)\n",
        "    import matplotlib.pyplot as plt\n",
        "    import matplotlib.mlab as mlab\n",
        "    from scipy import stats, optimize\n",
        "    import numpy as np\n",
        "    import math\n",
        " \n",
        "    #---------------------------------------------------------------------\n",
        "    # Calcula o PSD da série temporal\n",
        "    #---------------------------------------------------------------------\n",
        "\n",
        "    def psd(data):\n",
        "        \"\"\"Calcula o PSD de uma série temporal.\"\"\"\n",
        "        # Define um intervalo para realizar o ajuste da reta\n",
        "        # INICIO = 15\n",
        "        # FIM = 6300\n",
        "        # O vetor com o tempo é o tamanho do número de pontos\n",
        "        N = len(data)#int(len(data)/2)\n",
        "        tempo = np.arange(len(data))\n",
        "        # Define a frequência de amostragem\n",
        "        dt = (tempo[-1] - tempo[0] / (N - 1))\n",
        "        fs = 1 / dt\n",
        "        # Calcula o PSD utilizando o MLAB\n",
        "        power, freqs = mlab.psd(data, Fs = fs, NFFT = N, scale_by_freq = False)\n",
        "        # Calcula a porcentagem de pontos utilizados na reta de ajuste\n",
        "        totalFrequencias = len(freqs)\n",
        "        totalPSD = FIM - INICIO\n",
        "        porcentagemPSD = int(100 * totalPSD / totalFrequencias)\n",
        "        # Seleciona os dados dentro do intervalo de seleção\n",
        "        xdata = freqs[INICIO:FIM]\n",
        "        ydata = power[INICIO:FIM]\n",
        "        # Simula o erro\n",
        "        yerr = 0.2 * ydata\n",
        "        # Define uma função para calcular a Lei de Potência\n",
        "        powerlaw = lambda x, amp, index: amp * (x**index)\n",
        "        # Converte os dados para o formato LOG\n",
        "        logx = np.log10(xdata)\n",
        "        logy = np.log10(ydata)\n",
        "        # Define a função para realizar o ajuste\n",
        "        fitfunc = lambda p, x: p[0] + p[1] * x\n",
        "        errfunc = lambda p, x, y, err: (y - fitfunc(p, x)) / err    \n",
        "        logyerr = yerr / ydata\n",
        "        # Calcula a reta de ajuste\n",
        "        pinit = [1.0, -1.0]\n",
        "        out = optimize.leastsq(errfunc, pinit, args = (logx, logy, logyerr), full_output = 1)    \n",
        "        pfinal = out[0]\n",
        "        covar = out[1]\n",
        "        index = pfinal[1]\n",
        "        amp = 10.0 ** pfinal[0]\n",
        "        indexErr = np.sqrt(covar[0][0])\n",
        "        ampErr = np.sqrt(covar[1][1]) * amp\n",
        "        # Retorna os valores obtidos\n",
        "        return freqs, power, xdata, ydata, amp, index, powerlaw, INICIO, FIM\n",
        "\n",
        "\n",
        "    def main():\n",
        "        \"\"\"Função com o código principal do programa.\"\"\"\n",
        "        #print(\"\\nSpectral Analysis for time series...\\n\")\n",
        "        # Desabilita as mensagens de erro do Numpy (warnings)\n",
        "        old_settings = np.seterr(divide = 'ignore', invalid = 'ignore', over = 'ignore')\n",
        "        # Carrega o arquivo de dados\n",
        "        #nomeArquivo = 'serie1.txt'     \n",
        "\n",
        "        pd.DataFrame(nomeArquivo[:2**int(np.log2(len(nomeArquivo)))]).to_csv(\"data.csv\", index=False, header=False)\n",
        "        #pd.DataFrame(model_data[0][:2**int(np.log2(len(model_data)))]).to_csv(\"model.csv\", index=False, header=False)\n",
        "\n",
        "        #csv_para_txt\n",
        "        import csv\n",
        "        with open(\"data.txt\", \"w\") as my_output_file: \n",
        "            with open(\"data.csv\", \"r\") as my_input_file: [ my_output_file.write(\" \".join(row)+'\\n') for row in csv.reader(my_input_file)]\n",
        "            my_output_file.close()\n",
        "\n",
        "        data = np.genfromtxt('data.txt',\n",
        "                             delimiter = ',',\n",
        "                             dtype = 'float32',\n",
        "                             filling_values = 0)\n",
        "\n",
        "        # Exibe os primeiro N valores do arquivo\n",
        "        #N = 10\n",
        "        #fig = plt.figure(figsize=(6,4), dpi=100)\n",
        "        #fig.subplots_adjust(hspace = .4, wspace = .2)\n",
        "        # Tamanho das fontes\n",
        "        tamanhoFonteEixoX     = 16\n",
        "        tamanhoFonteEixoY     = 20\n",
        "        tamanhoFonteTitulo    = 16\n",
        "        tamanhoFontePrincipal = 25\n",
        "        # Título principal\n",
        "        tituloPrincipal = 'Time Series Spectral Analysis'   \n",
        "        #-----------------------------------------------------------------\n",
        "        # Plotagem da série original\n",
        "        #-----------------------------------------------------------------\n",
        "        # Define as cores da plotagem\n",
        "        #corSerieOriginal = cor# 'r'\n",
        "        # Título dos eixos da série original\n",
        "        textoEixoX = 'Time'\n",
        "        textoEixoY = 'Amplitude'\n",
        "        #textoTituloOriginal = titulo\n",
        "\n",
        "        #-----------------------------------------------------------------\n",
        "        # Cálculo e plotagem do PSD                                     --\n",
        "        #-----------------------------------------------------------------\n",
        "        # Calcula o PSD\n",
        "        freqs, power, xdata, ydata, amp, index, powerlaw, INICIO, FIM = psd(data)\n",
        "        # O valor do beta equivale ao index\n",
        "        b = index\n",
        "        # Define as cores da plotagem\n",
        "        corPSD1 = 'k'\n",
        "        #corPSD2 =  'orange' if modelo_nome == 'GRU' else 'green'\n",
        "        #corPSD2 =  'navy'# if nomeArquivo == 'serie_time.txt' else 'orange' if modelo_nome == 'GRU' else 'green'\n",
        "        # Título dos eixos do PSD\n",
        "        textoPSDX = 'Frequency (Hz)'\n",
        "        textoPSDY = 'PSD'\n",
        "        #textoTituloPSD = r''+str(modelo_nome)+' - PSD Estimation β = '\n",
        "        # Plotagem do PSD    \n",
        "        #PSD = fig.add_subplot(2, 2, (1,4))    \n",
        "        plt.plot(freqs, power, '-', color = corPSD1, alpha = 0.7)\n",
        "        plt.plot(xdata, ydata, color = corPSD2, alpha = 0.8)\n",
        "        plt.axvline(freqs[INICIO], color = corPSD2, linestyle = '--')\n",
        "        plt.axvline(freqs[FIM], color = corPSD2, linestyle = '--')    \n",
        "        plt.plot(xdata, powerlaw(xdata, amp, index), 'r-', linewidth = 1.5, label = '$%.4f$' %(b))    \n",
        "        plt.xlabel(textoPSDX                                  )#, fontsize = tamanhoFonteEixoX)\n",
        "        plt.ylabel(textoPSDY                                  )#, fontsize = tamanhoFonteEixoY)\n",
        "        plt.title(textoTituloPSD + ' β = %.4f' %(b), loc = 'center')#, fontsize = tamanhoFonteTitulo)\n",
        "        plt.yscale('log')\n",
        "        plt.xscale('log')\n",
        "        plt.grid() \n",
        "        #fig.set_size_inches(7, 4)\n",
        "        #plt.savefig(nomeImagem, dpi = 300, bbox_inches = 'tight', pad_inches = 0.1)    \n",
        "        #plt.show()\n",
        "\n",
        "    if __name__ == \"__main__\":\n",
        "        main()\n",
        "    #——————————————————————————————————————————"
      ]
    },
    {
      "cell_type": "code",
      "execution_count": null,
      "metadata": {
        "id": "pYGIOG3QvF6p"
      },
      "outputs": [],
      "source": [
        "plt.figure(figsize = (20,4*(len(model)+1)+8), dpi=80)\n",
        "plt.subplot(len(model)+1,1,1)\n",
        "specplus(dataset,  #Dataframe\n",
        "          1,              #Incial Value\n",
        "          2**int(np.log2(len(dataset))-2), #Final Value\n",
        "          'Original Data Set',   #Chat Tile\n",
        "          'red')        #Color\n",
        "for i in range(len(model)):\n",
        "  plt.subplot(len(model)+1,1,i+2)\n",
        "  specplus(model_data[i],  #Dataframe\n",
        "           1,              #Incial Value\n",
        "           2**int(np.log2(len(model_data[i]))-2), #Final Value\n",
        "           model_name[i],   #Chat Tile\n",
        "           color[i])        #Color\n",
        "plt.show()"
      ]
    },
    {
      "cell_type": "code",
      "execution_count": null,
      "metadata": {
        "id": "sZYV_t1mhd-2"
      },
      "outputs": [],
      "source": [
        "#remove all\n",
        "#!rm *"
      ]
    },
    {
      "cell_type": "code",
      "execution_count": null,
      "metadata": {
        "id": "M4-eRXRFFcBv"
      },
      "outputs": [],
      "source": [
        "#Ziping Data for download📦\n",
        "#!zip -r /content/drive/MyDrive/Kaggle/model_RNN.zip /content/model_RNN/"
      ]
    },
    {
      "cell_type": "markdown",
      "metadata": {
        "id": "3CUwzDNruvxw"
      },
      "source": [
        "# References\n",
        "\n",
        "https://www.tensorflow.org/guide/keras/save_and_serialize\n",
        "\n",
        "https://medium.com/geekculture/10-hyperparameters-to-keep-an-eye-on-for-your-lstm-model-and-other-tips-f0ff5b63fcd4\n",
        "\n",
        "https://towardsdatascience.com/illustrated-guide-to-lstms-and-gru-s-a-step-by-step-explanation-44e9eb85bf21"
      ]
    }
  ],
  "metadata": {
    "colab": {
      "collapsed_sections": [],
      "name": "RNN For 1D Colored Noise.ipynb",
      "provenance": [],
      "include_colab_link": true
    },
    "kernelspec": {
      "display_name": "Python 3",
      "language": "python",
      "name": "python3"
    },
    "language_info": {
      "codemirror_mode": {
        "name": "ipython",
        "version": 3
      },
      "file_extension": ".py",
      "mimetype": "text/x-python",
      "name": "python",
      "nbconvert_exporter": "python",
      "pygments_lexer": "ipython3",
      "version": "3.8.5"
    }
  },
  "nbformat": 4,
  "nbformat_minor": 0
}